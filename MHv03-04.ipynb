{
 "cells": [
  {
   "cell_type": "code",
   "execution_count": 1,
   "metadata": {
    "collapsed": true
   },
   "outputs": [],
   "source": [
    "import warnings\n",
    "warnings.simplefilter('ignore')\n",
    "\n",
    "import numpy as np\n",
    "import pandas as pd\n",
    "import matplotlib.pyplot as plt\n",
    "%matplotlib inline\n",
    "import seaborn as sns\n",
    "\n",
    "#importing all the required ML packages\n",
    "from sklearn.linear_model import LogisticRegression #logistic regression\n",
    "from sklearn import svm #support vector Machine\n",
    "from sklearn.ensemble import RandomForestClassifier #Random Forest\n",
    "from sklearn.neighbors import KNeighborsClassifier #KNN\n",
    "from sklearn.naive_bayes import GaussianNB #Naive bayes\n",
    "from sklearn.tree import DecisionTreeClassifier #Decision Tree\n",
    "from sklearn.model_selection import train_test_split #training and testing data split\n",
    "from sklearn import metrics #accuracy measure\n",
    "from sklearn.metrics import confusion_matrix #for confusion matrix\n",
    "\n",
    "from sklearn.model_selection import KFold #for K-fold cross validation\n",
    "from sklearn.model_selection import cross_val_score, GridSearchCV #score evaluation\n",
    "from sklearn.model_selection import cross_val_predict #prediction"
   ]
  },
  {
   "cell_type": "code",
   "execution_count": 2,
   "metadata": {},
   "outputs": [
    {
     "name": "stderr",
     "output_type": "stream",
     "text": [
      "E:\\Anaconda3\\lib\\site-packages\\sklearn\\cross_validation.py:41: DeprecationWarning: This module was deprecated in version 0.18 in favor of the model_selection module into which all the refactored classes and functions are moved. Also note that the interface of the new CV iterators are different from that of this module. This module will be removed in 0.20.\n",
      "  \"This module will be removed in 0.20.\", DeprecationWarning)\n"
     ]
    }
   ],
   "source": [
    "\n",
    "from sklearn.metrics import roc_auc_score, auc, roc_curve, accuracy_score\n",
    "from sklearn import neighbors\n",
    "from sklearn.ensemble import GradientBoostingClassifier\n",
    "from imblearn.over_sampling import SMOTE \n",
    "\n",
    "from collections import Counter\n",
    "\n",
    "import xgboost as xgb\n",
    "from xgboost.sklearn import XGBClassifier"
   ]
  },
  {
   "cell_type": "code",
   "execution_count": 3,
   "metadata": {
    "collapsed": true
   },
   "outputs": [],
   "source": [
    "train = pd.read_csv(\"../Data/train.csv\")\n",
    "test = pd.read_csv(\"../Data/test.csv\")"
   ]
  },
  {
   "cell_type": "code",
   "execution_count": null,
   "metadata": {
    "collapsed": true
   },
   "outputs": [],
   "source": [
    "train_stage.info()"
   ]
  },
  {
   "cell_type": "code",
   "execution_count": null,
   "metadata": {
    "collapsed": true
   },
   "outputs": [],
   "source": [
    "test_stage.info()"
   ]
  },
  {
   "cell_type": "code",
   "execution_count": 4,
   "metadata": {
    "collapsed": true
   },
   "outputs": [],
   "source": [
    "train = train.set_index('id')\n",
    "test_pid=test.pop('id')"
   ]
  },
  {
   "cell_type": "code",
   "execution_count": 77,
   "metadata": {
    "collapsed": true
   },
   "outputs": [],
   "source": [
    "train_stage = train.copy()\n",
    "test_stage = test.copy()"
   ]
  },
  {
   "cell_type": "code",
   "execution_count": null,
   "metadata": {
    "collapsed": true
   },
   "outputs": [],
   "source": [
    "test_stage.head(10)"
   ]
  },
  {
   "cell_type": "code",
   "execution_count": 78,
   "metadata": {
    "collapsed": true
   },
   "outputs": [],
   "source": [
    "combine = [train_stage, test_stage]"
   ]
  },
  {
   "cell_type": "code",
   "execution_count": 94,
   "metadata": {},
   "outputs": [
    {
     "data": {
      "text/html": [
       "<div>\n",
       "<style>\n",
       "    .dataframe thead tr:only-child th {\n",
       "        text-align: right;\n",
       "    }\n",
       "\n",
       "    .dataframe thead th {\n",
       "        text-align: left;\n",
       "    }\n",
       "\n",
       "    .dataframe tbody tr th {\n",
       "        vertical-align: top;\n",
       "    }\n",
       "</style>\n",
       "<table border=\"1\" class=\"dataframe\">\n",
       "  <thead>\n",
       "    <tr style=\"text-align: right;\">\n",
       "      <th></th>\n",
       "      <th>gender</th>\n",
       "      <th>hypertension</th>\n",
       "      <th>heart_disease</th>\n",
       "      <th>ever_married</th>\n",
       "      <th>work_type</th>\n",
       "      <th>Residence_type</th>\n",
       "      <th>bmi</th>\n",
       "      <th>smoking_status</th>\n",
       "      <th>stroke</th>\n",
       "      <th>age_cat</th>\n",
       "      <th>AGL_cat</th>\n",
       "    </tr>\n",
       "  </thead>\n",
       "  <tbody>\n",
       "    <tr>\n",
       "      <th>count</th>\n",
       "      <td>43400.000000</td>\n",
       "      <td>43400.000000</td>\n",
       "      <td>43400.000000</td>\n",
       "      <td>43400.000000</td>\n",
       "      <td>43400.000000</td>\n",
       "      <td>43400.000000</td>\n",
       "      <td>43387.000000</td>\n",
       "      <td>43400.000000</td>\n",
       "      <td>43400.000000</td>\n",
       "      <td>43400.000000</td>\n",
       "      <td>43400.000000</td>\n",
       "    </tr>\n",
       "    <tr>\n",
       "      <th>mean</th>\n",
       "      <td>0.408894</td>\n",
       "      <td>0.093571</td>\n",
       "      <td>0.047512</td>\n",
       "      <td>0.643733</td>\n",
       "      <td>2.535138</td>\n",
       "      <td>0.501290</td>\n",
       "      <td>28.662241</td>\n",
       "      <td>0.475046</td>\n",
       "      <td>0.018041</td>\n",
       "      <td>4.053295</td>\n",
       "      <td>3.001175</td>\n",
       "    </tr>\n",
       "    <tr>\n",
       "      <th>std</th>\n",
       "      <td>0.492151</td>\n",
       "      <td>0.291235</td>\n",
       "      <td>0.212733</td>\n",
       "      <td>0.478901</td>\n",
       "      <td>1.165635</td>\n",
       "      <td>0.500004</td>\n",
       "      <td>7.680606</td>\n",
       "      <td>0.742823</td>\n",
       "      <td>0.133103</td>\n",
       "      <td>2.755085</td>\n",
       "      <td>2.005229</td>\n",
       "    </tr>\n",
       "    <tr>\n",
       "      <th>min</th>\n",
       "      <td>0.000000</td>\n",
       "      <td>0.000000</td>\n",
       "      <td>0.000000</td>\n",
       "      <td>0.000000</td>\n",
       "      <td>0.000000</td>\n",
       "      <td>0.000000</td>\n",
       "      <td>10.100000</td>\n",
       "      <td>0.000000</td>\n",
       "      <td>0.000000</td>\n",
       "      <td>0.000000</td>\n",
       "      <td>0.000000</td>\n",
       "    </tr>\n",
       "    <tr>\n",
       "      <th>25%</th>\n",
       "      <td>0.000000</td>\n",
       "      <td>0.000000</td>\n",
       "      <td>0.000000</td>\n",
       "      <td>0.000000</td>\n",
       "      <td>2.000000</td>\n",
       "      <td>0.000000</td>\n",
       "      <td>23.400000</td>\n",
       "      <td>0.000000</td>\n",
       "      <td>0.000000</td>\n",
       "      <td>2.000000</td>\n",
       "      <td>1.000000</td>\n",
       "    </tr>\n",
       "    <tr>\n",
       "      <th>50%</th>\n",
       "      <td>0.000000</td>\n",
       "      <td>0.000000</td>\n",
       "      <td>0.000000</td>\n",
       "      <td>1.000000</td>\n",
       "      <td>3.000000</td>\n",
       "      <td>1.000000</td>\n",
       "      <td>28.000000</td>\n",
       "      <td>0.000000</td>\n",
       "      <td>0.000000</td>\n",
       "      <td>4.000000</td>\n",
       "      <td>3.000000</td>\n",
       "    </tr>\n",
       "    <tr>\n",
       "      <th>75%</th>\n",
       "      <td>1.000000</td>\n",
       "      <td>0.000000</td>\n",
       "      <td>0.000000</td>\n",
       "      <td>1.000000</td>\n",
       "      <td>3.000000</td>\n",
       "      <td>1.000000</td>\n",
       "      <td>32.860000</td>\n",
       "      <td>1.000000</td>\n",
       "      <td>0.000000</td>\n",
       "      <td>6.000000</td>\n",
       "      <td>5.000000</td>\n",
       "    </tr>\n",
       "    <tr>\n",
       "      <th>max</th>\n",
       "      <td>2.000000</td>\n",
       "      <td>1.000000</td>\n",
       "      <td>1.000000</td>\n",
       "      <td>1.000000</td>\n",
       "      <td>4.000000</td>\n",
       "      <td>1.000000</td>\n",
       "      <td>97.600000</td>\n",
       "      <td>2.000000</td>\n",
       "      <td>1.000000</td>\n",
       "      <td>9.000000</td>\n",
       "      <td>6.000000</td>\n",
       "    </tr>\n",
       "  </tbody>\n",
       "</table>\n",
       "</div>"
      ],
      "text/plain": [
       "             gender  hypertension  heart_disease  ever_married     work_type  \\\n",
       "count  43400.000000  43400.000000   43400.000000  43400.000000  43400.000000   \n",
       "mean       0.408894      0.093571       0.047512      0.643733      2.535138   \n",
       "std        0.492151      0.291235       0.212733      0.478901      1.165635   \n",
       "min        0.000000      0.000000       0.000000      0.000000      0.000000   \n",
       "25%        0.000000      0.000000       0.000000      0.000000      2.000000   \n",
       "50%        0.000000      0.000000       0.000000      1.000000      3.000000   \n",
       "75%        1.000000      0.000000       0.000000      1.000000      3.000000   \n",
       "max        2.000000      1.000000       1.000000      1.000000      4.000000   \n",
       "\n",
       "       Residence_type           bmi  smoking_status        stroke  \\\n",
       "count    43400.000000  43387.000000    43400.000000  43400.000000   \n",
       "mean         0.501290     28.662241        0.475046      0.018041   \n",
       "std          0.500004      7.680606        0.742823      0.133103   \n",
       "min          0.000000     10.100000        0.000000      0.000000   \n",
       "25%          0.000000     23.400000        0.000000      0.000000   \n",
       "50%          1.000000     28.000000        0.000000      0.000000   \n",
       "75%          1.000000     32.860000        1.000000      0.000000   \n",
       "max          1.000000     97.600000        2.000000      1.000000   \n",
       "\n",
       "            age_cat       AGL_cat  \n",
       "count  43400.000000  43400.000000  \n",
       "mean       4.053295      3.001175  \n",
       "std        2.755085      2.005229  \n",
       "min        0.000000      0.000000  \n",
       "25%        2.000000      1.000000  \n",
       "50%        4.000000      3.000000  \n",
       "75%        6.000000      5.000000  \n",
       "max        9.000000      6.000000  "
      ]
     },
     "execution_count": 94,
     "metadata": {},
     "output_type": "execute_result"
    }
   ],
   "source": [
    "train_stage.describe()"
   ]
  },
  {
   "cell_type": "code",
   "execution_count": 95,
   "metadata": {},
   "outputs": [
    {
     "data": {
      "text/html": [
       "<div>\n",
       "<style>\n",
       "    .dataframe thead tr:only-child th {\n",
       "        text-align: right;\n",
       "    }\n",
       "\n",
       "    .dataframe thead th {\n",
       "        text-align: left;\n",
       "    }\n",
       "\n",
       "    .dataframe tbody tr th {\n",
       "        vertical-align: top;\n",
       "    }\n",
       "</style>\n",
       "<table border=\"1\" class=\"dataframe\">\n",
       "  <thead>\n",
       "    <tr style=\"text-align: right;\">\n",
       "      <th></th>\n",
       "      <th>gender</th>\n",
       "      <th>hypertension</th>\n",
       "      <th>heart_disease</th>\n",
       "      <th>ever_married</th>\n",
       "      <th>work_type</th>\n",
       "      <th>Residence_type</th>\n",
       "      <th>bmi</th>\n",
       "      <th>smoking_status</th>\n",
       "      <th>age_cat</th>\n",
       "      <th>AGL_cat</th>\n",
       "    </tr>\n",
       "  </thead>\n",
       "  <tbody>\n",
       "    <tr>\n",
       "      <th>count</th>\n",
       "      <td>18601.000000</td>\n",
       "      <td>18601.000000</td>\n",
       "      <td>18601.000000</td>\n",
       "      <td>18601.000000</td>\n",
       "      <td>18601.000000</td>\n",
       "      <td>18601.000000</td>\n",
       "      <td>18600.000000</td>\n",
       "      <td>18601.000000</td>\n",
       "      <td>18601.000000</td>\n",
       "      <td>18601.000000</td>\n",
       "    </tr>\n",
       "    <tr>\n",
       "      <th>mean</th>\n",
       "      <td>0.411053</td>\n",
       "      <td>0.093167</td>\n",
       "      <td>0.048062</td>\n",
       "      <td>0.641847</td>\n",
       "      <td>2.540455</td>\n",
       "      <td>0.500511</td>\n",
       "      <td>28.614230</td>\n",
       "      <td>0.471695</td>\n",
       "      <td>4.034837</td>\n",
       "      <td>3.016935</td>\n",
       "    </tr>\n",
       "    <tr>\n",
       "      <th>std</th>\n",
       "      <td>0.492257</td>\n",
       "      <td>0.290674</td>\n",
       "      <td>0.213903</td>\n",
       "      <td>0.479470</td>\n",
       "      <td>1.160548</td>\n",
       "      <td>0.500013</td>\n",
       "      <td>7.673279</td>\n",
       "      <td>0.738691</td>\n",
       "      <td>2.759825</td>\n",
       "      <td>1.999270</td>\n",
       "    </tr>\n",
       "    <tr>\n",
       "      <th>min</th>\n",
       "      <td>0.000000</td>\n",
       "      <td>0.000000</td>\n",
       "      <td>0.000000</td>\n",
       "      <td>0.000000</td>\n",
       "      <td>0.000000</td>\n",
       "      <td>0.000000</td>\n",
       "      <td>10.200000</td>\n",
       "      <td>0.000000</td>\n",
       "      <td>0.000000</td>\n",
       "      <td>0.000000</td>\n",
       "    </tr>\n",
       "    <tr>\n",
       "      <th>25%</th>\n",
       "      <td>0.000000</td>\n",
       "      <td>0.000000</td>\n",
       "      <td>0.000000</td>\n",
       "      <td>0.000000</td>\n",
       "      <td>2.000000</td>\n",
       "      <td>0.000000</td>\n",
       "      <td>23.400000</td>\n",
       "      <td>0.000000</td>\n",
       "      <td>2.000000</td>\n",
       "      <td>1.000000</td>\n",
       "    </tr>\n",
       "    <tr>\n",
       "      <th>50%</th>\n",
       "      <td>0.000000</td>\n",
       "      <td>0.000000</td>\n",
       "      <td>0.000000</td>\n",
       "      <td>1.000000</td>\n",
       "      <td>3.000000</td>\n",
       "      <td>1.000000</td>\n",
       "      <td>27.900000</td>\n",
       "      <td>0.000000</td>\n",
       "      <td>4.000000</td>\n",
       "      <td>3.000000</td>\n",
       "    </tr>\n",
       "    <tr>\n",
       "      <th>75%</th>\n",
       "      <td>1.000000</td>\n",
       "      <td>0.000000</td>\n",
       "      <td>0.000000</td>\n",
       "      <td>1.000000</td>\n",
       "      <td>3.000000</td>\n",
       "      <td>1.000000</td>\n",
       "      <td>32.800000</td>\n",
       "      <td>1.000000</td>\n",
       "      <td>6.000000</td>\n",
       "      <td>5.000000</td>\n",
       "    </tr>\n",
       "    <tr>\n",
       "      <th>max</th>\n",
       "      <td>2.000000</td>\n",
       "      <td>1.000000</td>\n",
       "      <td>1.000000</td>\n",
       "      <td>1.000000</td>\n",
       "      <td>4.000000</td>\n",
       "      <td>1.000000</td>\n",
       "      <td>88.300000</td>\n",
       "      <td>2.000000</td>\n",
       "      <td>9.000000</td>\n",
       "      <td>6.000000</td>\n",
       "    </tr>\n",
       "  </tbody>\n",
       "</table>\n",
       "</div>"
      ],
      "text/plain": [
       "             gender  hypertension  heart_disease  ever_married     work_type  \\\n",
       "count  18601.000000  18601.000000   18601.000000  18601.000000  18601.000000   \n",
       "mean       0.411053      0.093167       0.048062      0.641847      2.540455   \n",
       "std        0.492257      0.290674       0.213903      0.479470      1.160548   \n",
       "min        0.000000      0.000000       0.000000      0.000000      0.000000   \n",
       "25%        0.000000      0.000000       0.000000      0.000000      2.000000   \n",
       "50%        0.000000      0.000000       0.000000      1.000000      3.000000   \n",
       "75%        1.000000      0.000000       0.000000      1.000000      3.000000   \n",
       "max        2.000000      1.000000       1.000000      1.000000      4.000000   \n",
       "\n",
       "       Residence_type           bmi  smoking_status       age_cat  \\\n",
       "count    18601.000000  18600.000000    18601.000000  18601.000000   \n",
       "mean         0.500511     28.614230        0.471695      4.034837   \n",
       "std          0.500013      7.673279        0.738691      2.759825   \n",
       "min          0.000000     10.200000        0.000000      0.000000   \n",
       "25%          0.000000     23.400000        0.000000      2.000000   \n",
       "50%          1.000000     27.900000        0.000000      4.000000   \n",
       "75%          1.000000     32.800000        1.000000      6.000000   \n",
       "max          1.000000     88.300000        2.000000      9.000000   \n",
       "\n",
       "            AGL_cat  \n",
       "count  18601.000000  \n",
       "mean       3.016935  \n",
       "std        1.999270  \n",
       "min        0.000000  \n",
       "25%        1.000000  \n",
       "50%        3.000000  \n",
       "75%        5.000000  \n",
       "max        6.000000  "
      ]
     },
     "execution_count": 95,
     "metadata": {},
     "output_type": "execute_result"
    }
   ],
   "source": [
    "test_stage.describe()"
   ]
  },
  {
   "cell_type": "code",
   "execution_count": null,
   "metadata": {
    "collapsed": true
   },
   "outputs": [],
   "source": [
    "train_stage.groupby(['stroke','Residence_type'])['gender'].count()"
   ]
  },
  {
   "cell_type": "code",
   "execution_count": 79,
   "metadata": {
    "scrolled": true
   },
   "outputs": [
    {
     "data": {
      "text/html": [
       "<style  type=\"text/css\" >\n",
       "    #T_bee3082e_4020_11e8_bac5_847beb42de1crow0_col0 {\n",
       "            background-color:  #ffff66;\n",
       "        }    #T_bee3082e_4020_11e8_bac5_847beb42de1crow1_col0 {\n",
       "            background-color:  #ffff66;\n",
       "        }    #T_bee3082e_4020_11e8_bac5_847beb42de1crow2_col0 {\n",
       "            background-color:  #ffff66;\n",
       "        }    #T_bee3082e_4020_11e8_bac5_847beb42de1crow3_col0 {\n",
       "            background-color:  #f3f966;\n",
       "        }    #T_bee3082e_4020_11e8_bac5_847beb42de1crow4_col0 {\n",
       "            background-color:  #ebf566;\n",
       "        }    #T_bee3082e_4020_11e8_bac5_847beb42de1crow5_col0 {\n",
       "            background-color:  #d8ec66;\n",
       "        }    #T_bee3082e_4020_11e8_bac5_847beb42de1crow6_col0 {\n",
       "            background-color:  #bbdd66;\n",
       "        }    #T_bee3082e_4020_11e8_bac5_847beb42de1crow7_col0 {\n",
       "            background-color:  #84c266;\n",
       "        }    #T_bee3082e_4020_11e8_bac5_847beb42de1crow8_col0 {\n",
       "            background-color:  #008066;\n",
       "        }</style>  \n",
       "<table id=\"T_bee3082e_4020_11e8_bac5_847beb42de1c\" > \n",
       "<thead>    <tr> \n",
       "        <th class=\"blank level0\" ></th> \n",
       "        <th class=\"col_heading level0 col0\" >stroke</th> \n",
       "    </tr>    <tr> \n",
       "        <th class=\"index_name level0\" >age_Range</th> \n",
       "        <th class=\"blank\" ></th> \n",
       "    </tr></thead> \n",
       "<tbody>    <tr> \n",
       "        <th id=\"T_bee3082e_4020_11e8_bac5_847beb42de1c\" class=\"row_heading level0 row0\" >(0.079, 11.0]</th> \n",
       "        <td id=\"T_bee3082e_4020_11e8_bac5_847beb42de1crow0_col0\" class=\"data row0 col0\" >0.000202922</td> \n",
       "    </tr>    <tr> \n",
       "        <th id=\"T_bee3082e_4020_11e8_bac5_847beb42de1c\" class=\"row_heading level0 row1\" >(11.0, 22.0]</th> \n",
       "        <td id=\"T_bee3082e_4020_11e8_bac5_847beb42de1crow1_col0\" class=\"data row1 col0\" >0.00039116</td> \n",
       "    </tr>    <tr> \n",
       "        <th id=\"T_bee3082e_4020_11e8_bac5_847beb42de1c\" class=\"row_heading level0 row2\" >(22.0, 31.0]</th> \n",
       "        <td id=\"T_bee3082e_4020_11e8_bac5_847beb42de1crow2_col0\" class=\"data row2 col0\" >0.000208899</td> \n",
       "    </tr>    <tr> \n",
       "        <th id=\"T_bee3082e_4020_11e8_bac5_847beb42de1c\" class=\"row_heading level0 row3\" >(31.0, 40.0]</th> \n",
       "        <td id=\"T_bee3082e_4020_11e8_bac5_847beb42de1crow3_col0\" class=\"data row3 col0\" >0.0042605</td> \n",
       "    </tr>    <tr> \n",
       "        <th id=\"T_bee3082e_4020_11e8_bac5_847beb42de1c\" class=\"row_heading level0 row4\" >(40.0, 47.0]</th> \n",
       "        <td id=\"T_bee3082e_4020_11e8_bac5_847beb42de1crow4_col0\" class=\"data row4 col0\" >0.0067766</td> \n",
       "    </tr>    <tr> \n",
       "        <th id=\"T_bee3082e_4020_11e8_bac5_847beb42de1c\" class=\"row_heading level0 row5\" >(47.0, 54.0]</th> \n",
       "        <td id=\"T_bee3082e_4020_11e8_bac5_847beb42de1crow5_col0\" class=\"data row5 col0\" >0.0128311</td> \n",
       "    </tr>    <tr> \n",
       "        <th id=\"T_bee3082e_4020_11e8_bac5_847beb42de1c\" class=\"row_heading level0 row6\" >(54.0, 62.0]</th> \n",
       "        <td id=\"T_bee3082e_4020_11e8_bac5_847beb42de1crow6_col0\" class=\"data row6 col0\" >0.0220342</td> \n",
       "    </tr>    <tr> \n",
       "        <th id=\"T_bee3082e_4020_11e8_bac5_847beb42de1c\" class=\"row_heading level0 row7\" >(62.0, 72.0]</th> \n",
       "        <td id=\"T_bee3082e_4020_11e8_bac5_847beb42de1crow7_col0\" class=\"data row7 col0\" >0.0392279</td> \n",
       "    </tr>    <tr> \n",
       "        <th id=\"T_bee3082e_4020_11e8_bac5_847beb42de1c\" class=\"row_heading level0 row8\" >(72.0, 82.0]</th> \n",
       "        <td id=\"T_bee3082e_4020_11e8_bac5_847beb42de1crow8_col0\" class=\"data row8 col0\" >0.0814187</td> \n",
       "    </tr></tbody> \n",
       "</table> "
      ],
      "text/plain": [
       "<pandas.io.formats.style.Styler at 0x19c5d24c3c8>"
      ]
     },
     "execution_count": 79,
     "metadata": {},
     "output_type": "execute_result"
    }
   ],
   "source": [
    "train_stage['age_Range']=pd.qcut(train_stage['age'],9)\n",
    "train_stage.groupby(['age_Range'])['stroke'].mean().to_frame().style.background_gradient(cmap='summer_r')"
   ]
  },
  {
   "cell_type": "code",
   "execution_count": null,
   "metadata": {
    "collapsed": true
   },
   "outputs": [],
   "source": [
    "sns.distplot(train_stage.avg_glucose_level)"
   ]
  },
  {
   "cell_type": "code",
   "execution_count": 80,
   "metadata": {},
   "outputs": [
    {
     "data": {
      "text/html": [
       "<style  type=\"text/css\" >\n",
       "    #T_bf8c6592_4020_11e8_ba31_847beb42de1crow0_col0 {\n",
       "            background-color:  #e4f266;\n",
       "        }    #T_bf8c6592_4020_11e8_ba31_847beb42de1crow1_col0 {\n",
       "            background-color:  #dfef66;\n",
       "        }    #T_bf8c6592_4020_11e8_ba31_847beb42de1crow2_col0 {\n",
       "            background-color:  #eaf466;\n",
       "        }    #T_bf8c6592_4020_11e8_ba31_847beb42de1crow3_col0 {\n",
       "            background-color:  #ffff66;\n",
       "        }    #T_bf8c6592_4020_11e8_ba31_847beb42de1crow4_col0 {\n",
       "            background-color:  #eef666;\n",
       "        }    #T_bf8c6592_4020_11e8_ba31_847beb42de1crow5_col0 {\n",
       "            background-color:  #e1f066;\n",
       "        }    #T_bf8c6592_4020_11e8_ba31_847beb42de1crow6_col0 {\n",
       "            background-color:  #008066;\n",
       "        }</style>  \n",
       "<table id=\"T_bf8c6592_4020_11e8_ba31_847beb42de1c\" > \n",
       "<thead>    <tr> \n",
       "        <th class=\"blank level0\" ></th> \n",
       "        <th class=\"col_heading level0 col0\" >stroke</th> \n",
       "    </tr>    <tr> \n",
       "        <th class=\"index_name level0\" >AGL_Range</th> \n",
       "        <th class=\"blank\" ></th> \n",
       "    </tr></thead> \n",
       "<tbody>    <tr> \n",
       "        <th id=\"T_bf8c6592_4020_11e8_ba31_847beb42de1c\" class=\"row_heading level0 row0\" >(54.999, 70.03]</th> \n",
       "        <td id=\"T_bf8c6592_4020_11e8_ba31_847beb42de1crow0_col0\" class=\"data row0 col0\" >0.0145114</td> \n",
       "    </tr>    <tr> \n",
       "        <th id=\"T_bf8c6592_4020_11e8_ba31_847beb42de1c\" class=\"row_heading level0 row1\" >(70.03, 79.55]</th> \n",
       "        <td id=\"T_bf8c6592_4020_11e8_ba31_847beb42de1crow1_col0\" class=\"data row1 col0\" >0.015154</td> \n",
       "    </tr>    <tr> \n",
       "        <th id=\"T_bf8c6592_4020_11e8_ba31_847beb42de1c\" class=\"row_heading level0 row2\" >(79.55, 87.31]</th> \n",
       "        <td id=\"T_bf8c6592_4020_11e8_ba31_847beb42de1crow2_col0\" class=\"data row2 col0\" >0.0137163</td> \n",
       "    </tr>    <tr> \n",
       "        <th id=\"T_bf8c6592_4020_11e8_ba31_847beb42de1c\" class=\"row_heading level0 row3\" >(87.31, 96.24]</th> \n",
       "        <td id=\"T_bf8c6592_4020_11e8_ba31_847beb42de1crow3_col0\" class=\"data row3 col0\" >0.0109554</td> \n",
       "    </tr>    <tr> \n",
       "        <th id=\"T_bf8c6592_4020_11e8_ba31_847beb42de1c\" class=\"row_heading level0 row4\" >(96.24, 107.89]</th> \n",
       "        <td id=\"T_bf8c6592_4020_11e8_ba31_847beb42de1crow4_col0\" class=\"data row4 col0\" >0.0132386</td> \n",
       "    </tr>    <tr> \n",
       "        <th id=\"T_bf8c6592_4020_11e8_ba31_847beb42de1c\" class=\"row_heading level0 row5\" >(107.89, 140.401]</th> \n",
       "        <td id=\"T_bf8c6592_4020_11e8_ba31_847beb42de1crow5_col0\" class=\"data row5 col0\" >0.0148459</td> \n",
       "    </tr>    <tr> \n",
       "        <th id=\"T_bf8c6592_4020_11e8_ba31_847beb42de1c\" class=\"row_heading level0 row6\" >(140.401, 291.05]</th> \n",
       "        <td id=\"T_bf8c6592_4020_11e8_ba31_847beb42de1crow6_col0\" class=\"data row6 col0\" >0.043871</td> \n",
       "    </tr></tbody> \n",
       "</table> "
      ],
      "text/plain": [
       "<pandas.io.formats.style.Styler at 0x19c5d1c4400>"
      ]
     },
     "execution_count": 80,
     "metadata": {},
     "output_type": "execute_result"
    }
   ],
   "source": [
    "train_stage['AGL_Range']=pd.qcut(train_stage['avg_glucose_level'],7)\n",
    "train_stage.groupby(['AGL_Range'])['stroke'].mean().to_frame().style.background_gradient(cmap='summer_r')"
   ]
  },
  {
   "cell_type": "code",
   "execution_count": 81,
   "metadata": {
    "collapsed": true
   },
   "outputs": [],
   "source": [
    "for dataset in combine:\n",
    "    dataset['age_cat']=0\n",
    "    #train_stage.loc[train_stage['GrossIncome']<=3650,'GrossIncome_cat']=0\n",
    "    dataset.loc[(dataset['age']>11)&(dataset['age']<=22),'age_cat']=1\n",
    "    dataset.loc[(dataset['age']>22)&(dataset['age']<=31),'age_cat']=2\n",
    "    dataset.loc[(dataset['age']>31)&(dataset['age']<=40),'age_cat']=3\n",
    "    dataset.loc[(dataset['age']>40)&(dataset['age']<=47),'age_cat']=4\n",
    "    dataset.loc[(dataset['age']>47)&(dataset['age']<=54),'age_cat']=5\n",
    "    dataset.loc[(dataset['age']>54)&(dataset['age']<=62),'age_cat']=6\n",
    "    dataset.loc[(dataset['age']>62)&(dataset['age']<=72),'age_cat']=7\n",
    "    dataset.loc[(dataset['age']>72),'age_cat']=9\n",
    "    \n",
    "    dataset['AGL_cat']=0\n",
    "    dataset.loc[(dataset['avg_glucose_level']>70)&(dataset['avg_glucose_level']<=80),'AGL_cat']=1\n",
    "    dataset.loc[(dataset['avg_glucose_level']>80)&(dataset['avg_glucose_level']<=87),'AGL_cat']=2\n",
    "    dataset.loc[(dataset['avg_glucose_level']>87)&(dataset['avg_glucose_level']<=96),'AGL_cat']=3\n",
    "    dataset.loc[(dataset['avg_glucose_level']>96)&(dataset['avg_glucose_level']<=108),'AGL_cat']=4\n",
    "    dataset.loc[(dataset['avg_glucose_level']>108)&(dataset['avg_glucose_level']<=140),'AGL_cat']=5\n",
    "    dataset.loc[(dataset['avg_glucose_level']>140),'AGL_cat']=6    \n",
    "\n",
    "train_stage = train_stage.drop(['age_Range','age'], axis=1)\n",
    "test_stage = test_stage.drop(['age'], axis=1)\n",
    "\n",
    "train_stage = train_stage.drop(['AGL_Range','avg_glucose_level'], axis=1)\n",
    "test_stage = test_stage.drop(['avg_glucose_level'], axis=1)"
   ]
  },
  {
   "cell_type": "code",
   "execution_count": 85,
   "metadata": {
    "collapsed": true
   },
   "outputs": [],
   "source": [
    "train_stage['smoking_status'].fillna('never smoked',inplace = True)\n",
    "test_stage['smoking_status'].fillna('never smoked',inplace = True)"
   ]
  },
  {
   "cell_type": "code",
   "execution_count": 86,
   "metadata": {},
   "outputs": [
    {
     "name": "stdout",
     "output_type": "stream",
     "text": [
      "gender\n",
      "['Male' 'Female' 'Other']\n",
      "['Male' 'Female' 'Other']\n",
      "ever_married\n",
      "['No' 'Yes']\n",
      "['Yes' 'No']\n",
      "work_type\n",
      "['children' 'Private' 'Never_worked' 'Self-employed' 'Govt_job']\n",
      "['Private' 'Self-employed' 'children' 'Govt_job' 'Never_worked']\n",
      "Residence_type\n",
      "['Rural' 'Urban']\n",
      "['Urban' 'Rural']\n",
      "smoking_status\n",
      "['never smoked' 'formerly smoked' 'smokes']\n",
      "['formerly smoked' 'never smoked' 'smokes']\n"
     ]
    }
   ],
   "source": [
    "cat_var=train_stage.select_dtypes(include = ['object']).columns\n",
    "for var in cat_var :\n",
    "    if(var not in ['stroke']):\n",
    "        print(var)\n",
    "        print(train_stage[var].unique())\n",
    "        print(test_stage[var].unique())"
   ]
  },
  {
   "cell_type": "code",
   "execution_count": 87,
   "metadata": {
    "collapsed": true
   },
   "outputs": [],
   "source": [
    "train_stage['gender'].replace(['Male','Female', 'Other'],[1,0,2],inplace=True)\n",
    "train_stage['ever_married'].replace(['No','Yes'],[0,1],inplace=True)\n",
    "train_stage['work_type'].replace(['children','Never_worked','Self-employed','Private', 'Govt_job'],[0,1,2,3,4],inplace=True)\n",
    "train_stage['Residence_type'].replace(['Rural','Urban'],[0,1],inplace=True)\n",
    "train_stage['smoking_status'].replace(['never smoked','formerly smoked','smokes'],[0,1,2],inplace=True)\n",
    "    "
   ]
  },
  {
   "cell_type": "code",
   "execution_count": 88,
   "metadata": {
    "collapsed": true
   },
   "outputs": [],
   "source": [
    "test_stage['gender'].replace(['Male','Female', 'Other'],[1,0,2],inplace=True)\n",
    "test_stage['ever_married'].replace(['No','Yes'],[0,1],inplace=True)\n",
    "test_stage['work_type'].replace(['children','Never_worked','Self-employed','Private', 'Govt_job'],[0,1,2,3,4],inplace=True)\n",
    "test_stage['Residence_type'].replace(['Rural','Urban'],[0,1],inplace=True)\n",
    "test_stage['smoking_status'].replace(['never smoked','formerly smoked','smokes'],[0,1,2],inplace=True)\n",
    "    "
   ]
  },
  {
   "cell_type": "code",
   "execution_count": 91,
   "metadata": {
    "scrolled": true
   },
   "outputs": [
    {
     "data": {
      "text/html": [
       "<div>\n",
       "<style>\n",
       "    .dataframe thead tr:only-child th {\n",
       "        text-align: right;\n",
       "    }\n",
       "\n",
       "    .dataframe thead th {\n",
       "        text-align: left;\n",
       "    }\n",
       "\n",
       "    .dataframe tbody tr th {\n",
       "        vertical-align: top;\n",
       "    }\n",
       "</style>\n",
       "<table border=\"1\" class=\"dataframe\">\n",
       "  <thead>\n",
       "    <tr style=\"text-align: right;\">\n",
       "      <th></th>\n",
       "      <th></th>\n",
       "      <th></th>\n",
       "      <th></th>\n",
       "      <th></th>\n",
       "      <th>bmi</th>\n",
       "    </tr>\n",
       "    <tr>\n",
       "      <th>work_type</th>\n",
       "      <th>age_cat</th>\n",
       "      <th>hypertension</th>\n",
       "      <th>smoking_status</th>\n",
       "      <th>AGL_cat</th>\n",
       "      <th></th>\n",
       "    </tr>\n",
       "  </thead>\n",
       "  <tbody>\n",
       "    <tr>\n",
       "      <th rowspan=\"30\" valign=\"top\">0</th>\n",
       "      <th rowspan=\"17\" valign=\"top\">0</th>\n",
       "      <th rowspan=\"16\" valign=\"top\">0</th>\n",
       "      <th rowspan=\"7\" valign=\"top\">0</th>\n",
       "      <th>0</th>\n",
       "      <td>19.254881</td>\n",
       "    </tr>\n",
       "    <tr>\n",
       "      <th>1</th>\n",
       "      <td>19.055276</td>\n",
       "    </tr>\n",
       "    <tr>\n",
       "      <th>2</th>\n",
       "      <td>18.979666</td>\n",
       "    </tr>\n",
       "    <tr>\n",
       "      <th>3</th>\n",
       "      <td>19.100000</td>\n",
       "    </tr>\n",
       "    <tr>\n",
       "      <th>4</th>\n",
       "      <td>18.914410</td>\n",
       "    </tr>\n",
       "    <tr>\n",
       "      <th>5</th>\n",
       "      <td>19.125255</td>\n",
       "    </tr>\n",
       "    <tr>\n",
       "      <th>6</th>\n",
       "      <td>19.171809</td>\n",
       "    </tr>\n",
       "    <tr>\n",
       "      <th rowspan=\"7\" valign=\"top\">1</th>\n",
       "      <th>0</th>\n",
       "      <td>21.600000</td>\n",
       "    </tr>\n",
       "    <tr>\n",
       "      <th>1</th>\n",
       "      <td>19.066667</td>\n",
       "    </tr>\n",
       "    <tr>\n",
       "      <th>2</th>\n",
       "      <td>23.833333</td>\n",
       "    </tr>\n",
       "    <tr>\n",
       "      <th>3</th>\n",
       "      <td>23.400000</td>\n",
       "    </tr>\n",
       "    <tr>\n",
       "      <th>4</th>\n",
       "      <td>22.775000</td>\n",
       "    </tr>\n",
       "    <tr>\n",
       "      <th>5</th>\n",
       "      <td>20.533333</td>\n",
       "    </tr>\n",
       "    <tr>\n",
       "      <th>6</th>\n",
       "      <td>17.850000</td>\n",
       "    </tr>\n",
       "    <tr>\n",
       "      <th rowspan=\"2\" valign=\"top\">2</th>\n",
       "      <th>0</th>\n",
       "      <td>20.500000</td>\n",
       "    </tr>\n",
       "    <tr>\n",
       "      <th>2</th>\n",
       "      <td>20.100000</td>\n",
       "    </tr>\n",
       "    <tr>\n",
       "      <th>1</th>\n",
       "      <th>0</th>\n",
       "      <th>0</th>\n",
       "      <td>36.100000</td>\n",
       "    </tr>\n",
       "    <tr>\n",
       "      <th rowspan=\"13\" valign=\"top\">1</th>\n",
       "      <th rowspan=\"13\" valign=\"top\">0</th>\n",
       "      <th rowspan=\"7\" valign=\"top\">0</th>\n",
       "      <th>0</th>\n",
       "      <td>22.868156</td>\n",
       "    </tr>\n",
       "    <tr>\n",
       "      <th>1</th>\n",
       "      <td>23.178140</td>\n",
       "    </tr>\n",
       "    <tr>\n",
       "      <th>2</th>\n",
       "      <td>22.622388</td>\n",
       "    </tr>\n",
       "    <tr>\n",
       "      <th>3</th>\n",
       "      <td>23.207979</td>\n",
       "    </tr>\n",
       "    <tr>\n",
       "      <th>4</th>\n",
       "      <td>23.906952</td>\n",
       "    </tr>\n",
       "    <tr>\n",
       "      <th>5</th>\n",
       "      <td>23.241989</td>\n",
       "    </tr>\n",
       "    <tr>\n",
       "      <th>6</th>\n",
       "      <td>23.405455</td>\n",
       "    </tr>\n",
       "    <tr>\n",
       "      <th rowspan=\"6\" valign=\"top\">1</th>\n",
       "      <th>0</th>\n",
       "      <td>23.750000</td>\n",
       "    </tr>\n",
       "    <tr>\n",
       "      <th>1</th>\n",
       "      <td>24.386667</td>\n",
       "    </tr>\n",
       "    <tr>\n",
       "      <th>2</th>\n",
       "      <td>24.672727</td>\n",
       "    </tr>\n",
       "    <tr>\n",
       "      <th>3</th>\n",
       "      <td>22.000000</td>\n",
       "    </tr>\n",
       "    <tr>\n",
       "      <th>4</th>\n",
       "      <td>22.442857</td>\n",
       "    </tr>\n",
       "    <tr>\n",
       "      <th>5</th>\n",
       "      <td>25.242857</td>\n",
       "    </tr>\n",
       "    <tr>\n",
       "      <th>...</th>\n",
       "      <th>...</th>\n",
       "      <th>...</th>\n",
       "      <th>...</th>\n",
       "      <th>...</th>\n",
       "      <td>...</td>\n",
       "    </tr>\n",
       "    <tr>\n",
       "      <th rowspan=\"30\" valign=\"top\">4</th>\n",
       "      <th rowspan=\"30\" valign=\"top\">9</th>\n",
       "      <th rowspan=\"11\" valign=\"top\">0</th>\n",
       "      <th rowspan=\"4\" valign=\"top\">1</th>\n",
       "      <th>3</th>\n",
       "      <td>25.922222</td>\n",
       "    </tr>\n",
       "    <tr>\n",
       "      <th>4</th>\n",
       "      <td>28.600000</td>\n",
       "    </tr>\n",
       "    <tr>\n",
       "      <th>5</th>\n",
       "      <td>29.250000</td>\n",
       "    </tr>\n",
       "    <tr>\n",
       "      <th>6</th>\n",
       "      <td>29.540741</td>\n",
       "    </tr>\n",
       "    <tr>\n",
       "      <th rowspan=\"7\" valign=\"top\">2</th>\n",
       "      <th>0</th>\n",
       "      <td>31.100000</td>\n",
       "    </tr>\n",
       "    <tr>\n",
       "      <th>1</th>\n",
       "      <td>27.257143</td>\n",
       "    </tr>\n",
       "    <tr>\n",
       "      <th>2</th>\n",
       "      <td>28.700000</td>\n",
       "    </tr>\n",
       "    <tr>\n",
       "      <th>3</th>\n",
       "      <td>32.700000</td>\n",
       "    </tr>\n",
       "    <tr>\n",
       "      <th>4</th>\n",
       "      <td>24.133333</td>\n",
       "    </tr>\n",
       "    <tr>\n",
       "      <th>5</th>\n",
       "      <td>24.866667</td>\n",
       "    </tr>\n",
       "    <tr>\n",
       "      <th>6</th>\n",
       "      <td>27.000000</td>\n",
       "    </tr>\n",
       "    <tr>\n",
       "      <th rowspan=\"19\" valign=\"top\">1</th>\n",
       "      <th rowspan=\"7\" valign=\"top\">0</th>\n",
       "      <th>0</th>\n",
       "      <td>29.320000</td>\n",
       "    </tr>\n",
       "    <tr>\n",
       "      <th>1</th>\n",
       "      <td>27.783333</td>\n",
       "    </tr>\n",
       "    <tr>\n",
       "      <th>2</th>\n",
       "      <td>28.100000</td>\n",
       "    </tr>\n",
       "    <tr>\n",
       "      <th>3</th>\n",
       "      <td>30.114286</td>\n",
       "    </tr>\n",
       "    <tr>\n",
       "      <th>4</th>\n",
       "      <td>35.200000</td>\n",
       "    </tr>\n",
       "    <tr>\n",
       "      <th>5</th>\n",
       "      <td>30.100000</td>\n",
       "    </tr>\n",
       "    <tr>\n",
       "      <th>6</th>\n",
       "      <td>32.475000</td>\n",
       "    </tr>\n",
       "    <tr>\n",
       "      <th rowspan=\"7\" valign=\"top\">1</th>\n",
       "      <th>0</th>\n",
       "      <td>31.683333</td>\n",
       "    </tr>\n",
       "    <tr>\n",
       "      <th>1</th>\n",
       "      <td>27.100000</td>\n",
       "    </tr>\n",
       "    <tr>\n",
       "      <th>2</th>\n",
       "      <td>33.600000</td>\n",
       "    </tr>\n",
       "    <tr>\n",
       "      <th>3</th>\n",
       "      <td>26.050000</td>\n",
       "    </tr>\n",
       "    <tr>\n",
       "      <th>4</th>\n",
       "      <td>25.183333</td>\n",
       "    </tr>\n",
       "    <tr>\n",
       "      <th>5</th>\n",
       "      <td>28.800000</td>\n",
       "    </tr>\n",
       "    <tr>\n",
       "      <th>6</th>\n",
       "      <td>29.457143</td>\n",
       "    </tr>\n",
       "    <tr>\n",
       "      <th rowspan=\"5\" valign=\"top\">2</th>\n",
       "      <th>0</th>\n",
       "      <td>19.700000</td>\n",
       "    </tr>\n",
       "    <tr>\n",
       "      <th>2</th>\n",
       "      <td>25.650000</td>\n",
       "    </tr>\n",
       "    <tr>\n",
       "      <th>4</th>\n",
       "      <td>24.600000</td>\n",
       "    </tr>\n",
       "    <tr>\n",
       "      <th>5</th>\n",
       "      <td>31.300000</td>\n",
       "    </tr>\n",
       "    <tr>\n",
       "      <th>6</th>\n",
       "      <td>25.750000</td>\n",
       "    </tr>\n",
       "  </tbody>\n",
       "</table>\n",
       "<p>959 rows × 1 columns</p>\n",
       "</div>"
      ],
      "text/plain": [
       "                                                             bmi\n",
       "work_type age_cat hypertension smoking_status AGL_cat           \n",
       "0         0       0            0              0        19.254881\n",
       "                                              1        19.055276\n",
       "                                              2        18.979666\n",
       "                                              3        19.100000\n",
       "                                              4        18.914410\n",
       "                                              5        19.125255\n",
       "                                              6        19.171809\n",
       "                               1              0        21.600000\n",
       "                                              1        19.066667\n",
       "                                              2        23.833333\n",
       "                                              3        23.400000\n",
       "                                              4        22.775000\n",
       "                                              5        20.533333\n",
       "                                              6        17.850000\n",
       "                               2              0        20.500000\n",
       "                                              2        20.100000\n",
       "                  1            0              0        36.100000\n",
       "          1       0            0              0        22.868156\n",
       "                                              1        23.178140\n",
       "                                              2        22.622388\n",
       "                                              3        23.207979\n",
       "                                              4        23.906952\n",
       "                                              5        23.241989\n",
       "                                              6        23.405455\n",
       "                               1              0        23.750000\n",
       "                                              1        24.386667\n",
       "                                              2        24.672727\n",
       "                                              3        22.000000\n",
       "                                              4        22.442857\n",
       "                                              5        25.242857\n",
       "...                                                          ...\n",
       "4         9       0            1              3        25.922222\n",
       "                                              4        28.600000\n",
       "                                              5        29.250000\n",
       "                                              6        29.540741\n",
       "                               2              0        31.100000\n",
       "                                              1        27.257143\n",
       "                                              2        28.700000\n",
       "                                              3        32.700000\n",
       "                                              4        24.133333\n",
       "                                              5        24.866667\n",
       "                                              6        27.000000\n",
       "                  1            0              0        29.320000\n",
       "                                              1        27.783333\n",
       "                                              2        28.100000\n",
       "                                              3        30.114286\n",
       "                                              4        35.200000\n",
       "                                              5        30.100000\n",
       "                                              6        32.475000\n",
       "                               1              0        31.683333\n",
       "                                              1        27.100000\n",
       "                                              2        33.600000\n",
       "                                              3        26.050000\n",
       "                                              4        25.183333\n",
       "                                              5        28.800000\n",
       "                                              6        29.457143\n",
       "                               2              0        19.700000\n",
       "                                              2        25.650000\n",
       "                                              4        24.600000\n",
       "                                              5        31.300000\n",
       "                                              6        25.750000\n",
       "\n",
       "[959 rows x 1 columns]"
      ]
     },
     "execution_count": 91,
     "metadata": {},
     "output_type": "execute_result"
    }
   ],
   "source": [
    "table = train_stage.pivot_table(index = ['work_type','age_cat','hypertension','smoking_status','AGL_cat'], values = 'bmi', aggfunc=np.mean)\n",
    "table"
   ]
  },
  {
   "cell_type": "code",
   "execution_count": 92,
   "metadata": {
    "collapsed": true
   },
   "outputs": [],
   "source": [
    "def fill(x):\n",
    "    if pd.isnull(x['bmi']):\n",
    "        return table.loc[x['work_type'],x['age_cat'],x['hypertension'],x['smoking_status'],x['AGL_cat']].values\n",
    "    else:\n",
    "        return x['bmi']"
   ]
  },
  {
   "cell_type": "code",
   "execution_count": 93,
   "metadata": {
    "collapsed": true
   },
   "outputs": [],
   "source": [
    "train_stage['bmi'] = train_stage.apply(lambda x : round(float(fill(x)),2),axis=1)\n",
    "test_stage['bmi'] = test_stage.apply(lambda x : round(float(fill(x)),2),axis=1)"
   ]
  },
  {
   "cell_type": "code",
   "execution_count": 96,
   "metadata": {
    "collapsed": true
   },
   "outputs": [],
   "source": [
    "train_stage['bmi'].fillna(train_stage['bmi'].mean(),inplace = True)\n",
    "test_stage['bmi'].fillna(train_stage['bmi'].mean(),inplace = True)"
   ]
  },
  {
   "cell_type": "code",
   "execution_count": null,
   "metadata": {
    "collapsed": true
   },
   "outputs": [],
   "source": []
  },
  {
   "cell_type": "code",
   "execution_count": null,
   "metadata": {
    "collapsed": true
   },
   "outputs": [],
   "source": [
    "for column in ['bmi','avg_glucose_level']:\n",
    "    print(column)\n",
    "    #np.log(train_stage[column]).hist(bins = 100)\n",
    "    np.log(train_stage[train_stage[column] > 0][column]).hist(bins=200)\n",
    "    plt.show()"
   ]
  },
  {
   "cell_type": "code",
   "execution_count": null,
   "metadata": {
    "collapsed": true
   },
   "outputs": [],
   "source": [
    "f,ax=plt.subplots(1,2,figsize=(20,8))\n",
    "sns.distplot(train_stage[train_stage['stroke']==0].bmi,ax=ax[0])\n",
    "ax[0].set_title('no stroke')\n",
    "sns.distplot(train_stage[train_stage['stroke']==1].bmi,ax=ax[1])\n",
    "ax[1].set_title('stroke')\n",
    "plt.show()"
   ]
  },
  {
   "cell_type": "code",
   "execution_count": null,
   "metadata": {
    "collapsed": true
   },
   "outputs": [],
   "source": [
    "f,ax=plt.subplots(1,2,figsize=(20,8))\n",
    "sns.distplot(train_stage[train_stage['stroke']==0].avg_glucose_level,ax=ax[0])\n",
    "ax[0].set_title('no stroke')\n",
    "sns.distplot(train_stage[train_stage['stroke']==1].avg_glucose_level,ax=ax[1])\n",
    "ax[1].set_title('stroke')\n",
    "plt.show()"
   ]
  },
  {
   "cell_type": "code",
   "execution_count": 97,
   "metadata": {},
   "outputs": [
    {
     "data": {
      "image/png": "[encoded data removed]",
      "text/plain": [
       "<matplotlib.figure.Figure at 0x19c5be8c0f0>"
      ]
     },
     "metadata": {},
     "output_type": "display_data"
    }
   ],
   "source": [
    "sns.heatmap(train_stage.corr(),annot=True,cmap='RdYlGn',linewidths=0.2) #data.corr()-->correlation matrix\n",
    "fig=plt.gcf()\n",
    "fig.set_size_inches(10,8)\n",
    "plt.show()"
   ]
  },
  {
   "cell_type": "code",
   "execution_count": 98,
   "metadata": {
    "collapsed": true
   },
   "outputs": [],
   "source": [
    "y=train_stage['stroke']\n",
    "X = train_stage.drop('stroke', axis=1)"
   ]
  },
  {
   "cell_type": "code",
   "execution_count": 99,
   "metadata": {},
   "outputs": [
    {
     "name": "stdout",
     "output_type": "stream",
     "text": [
      "<class 'pandas.core.frame.DataFrame'>\n",
      "Int64Index: 43400 entries, 30669 to 36271\n",
      "Data columns (total 10 columns):\n",
      "gender            43400 non-null int64\n",
      "hypertension      43400 non-null int64\n",
      "heart_disease     43400 non-null int64\n",
      "ever_married      43400 non-null int64\n",
      "work_type         43400 non-null int64\n",
      "Residence_type    43400 non-null int64\n",
      "bmi               43400 non-null float64\n",
      "smoking_status    43400 non-null int64\n",
      "age_cat           43400 non-null int64\n",
      "AGL_cat           43400 non-null int64\n",
      "dtypes: float64(1), int64(9)\n",
      "memory usage: 3.6 MB\n"
     ]
    }
   ],
   "source": [
    "X.info()"
   ]
  },
  {
   "cell_type": "code",
   "execution_count": 100,
   "metadata": {
    "collapsed": true
   },
   "outputs": [],
   "source": [
    "sm = SMOTE(random_state=21)"
   ]
  },
  {
   "cell_type": "code",
   "execution_count": 101,
   "metadata": {
    "collapsed": true
   },
   "outputs": [],
   "source": [
    "X_resampled, y_resampled = sm.fit_sample(X, y)"
   ]
  },
  {
   "cell_type": "code",
   "execution_count": 102,
   "metadata": {
    "collapsed": true
   },
   "outputs": [],
   "source": [
    "X_resampled = pd.DataFrame(X_resampled)"
   ]
  },
  {
   "cell_type": "code",
   "execution_count": 103,
   "metadata": {
    "collapsed": true
   },
   "outputs": [],
   "source": [
    "X_resampled.columns = X.columns"
   ]
  },
  {
   "cell_type": "code",
   "execution_count": 104,
   "metadata": {},
   "outputs": [
    {
     "name": "stdout",
     "output_type": "stream",
     "text": [
      "(43400, 10)\n",
      "(43400,)\n",
      "(85234, 10)\n",
      "(85234,)\n"
     ]
    }
   ],
   "source": [
    "print(X.shape)\n",
    "print(y.shape)\n",
    "print(X_resampled.shape)\n",
    "print(y_resampled.shape)"
   ]
  },
  {
   "cell_type": "code",
   "execution_count": 105,
   "metadata": {},
   "outputs": [
    {
     "data": {
      "text/plain": [
       "783"
      ]
     },
     "execution_count": 105,
     "metadata": {},
     "output_type": "execute_result"
    }
   ],
   "source": [
    "np.sum(y)"
   ]
  },
  {
   "cell_type": "code",
   "execution_count": 106,
   "metadata": {
    "collapsed": true
   },
   "outputs": [],
   "source": [
    "X_train, X_test, y_train, y_test = train_test_split(X_resampled,y_resampled,test_size=0.2,random_state=42, stratify=y_resampled)"
   ]
  },
  {
   "cell_type": "code",
   "execution_count": 107,
   "metadata": {
    "collapsed": true
   },
   "outputs": [],
   "source": [
    "xgb2 = XGBClassifier(\n",
    " learning_rate =0.1,\n",
    " n_estimators=1000,\n",
    " max_depth=6,\n",
    " min_child_weight=6,\n",
    " gamma=0.09,\n",
    " reg_alpha = 1,\n",
    " subsample=0.8,\n",
    " colsample_bytree=0.7,\n",
    " objective= 'binary:logistic',\n",
    " nthread=4,\n",
    " scale_pos_weight=1,\n",
    " seed=27)"
   ]
  },
  {
   "cell_type": "code",
   "execution_count": 108,
   "metadata": {},
   "outputs": [
    {
     "data": {
      "text/plain": [
       "XGBClassifier(base_score=0.5, colsample_bylevel=1, colsample_bytree=0.7,\n",
       "       gamma=0.09, learning_rate=0.1, max_delta_step=0, max_depth=6,\n",
       "       min_child_weight=6, missing=None, n_estimators=1000, nthread=4,\n",
       "       objective='binary:logistic', reg_alpha=1, reg_lambda=1,\n",
       "       scale_pos_weight=1, seed=27, silent=True, subsample=0.8)"
      ]
     },
     "execution_count": 108,
     "metadata": {},
     "output_type": "execute_result"
    }
   ],
   "source": [
    "xgb2.fit(X_train, y_train)"
   ]
  },
  {
   "cell_type": "code",
   "execution_count": 109,
   "metadata": {},
   "outputs": [
    {
     "name": "stdout",
     "output_type": "stream",
     "text": [
      "[ 0.96650234  0.99997875  0.99998227  0.99995315  0.99997751  0.99997223\n",
      "  0.9999722   0.99999212  0.99994616  0.99996029]\n"
     ]
    }
   ],
   "source": [
    "cv_score = cross_val_score(xgb2,X_resampled,y_resampled,cv = 10, scoring = 'roc_auc')\n",
    "print(cv_score)"
   ]
  },
  {
   "cell_type": "code",
   "execution_count": 110,
   "metadata": {},
   "outputs": [
    {
     "data": {
      "image/png": "[encoded data removed]",
      "text/plain": [
       "<matplotlib.figure.Figure at 0x19c5dbe25c0>"
      ]
     },
     "metadata": {},
     "output_type": "display_data"
    }
   ],
   "source": [
    "y_predict = xgb2.predict_proba(X_test)\n",
    "fpr, tpr, thresholds = roc_curve(y_test, y_predict[:,1], pos_label=1)\n",
    "auc_algo = auc(fpr, tpr)\n",
    "\n",
    "plt.title('Receiver Operating Characteristic')\n",
    "plt.plot(fpr, tpr, 'b', label = 'AUC = %0.2f' % auc_algo)\n",
    "plt.legend(loc = 'lower right')\n",
    "plt.plot([0, 1], [0, 1],'r--')\n",
    "plt.xlim([0, 1])\n",
    "plt.ylim([0, 1])\n",
    "plt.ylabel('True Positive Rate')\n",
    "plt.xlabel('False Positive Rate')\n",
    "plt.show()"
   ]
  },
  {
   "cell_type": "code",
   "execution_count": 111,
   "metadata": {
    "collapsed": true
   },
   "outputs": [],
   "source": [
    "xgb2.fit(X_resampled, y_resampled)\n",
    "\n",
    "_pred = xgb2.predict_proba(test_stage)\n",
    "\n",
    "pred_reSample_xgb2 = pd.DataFrame(_pred[:,1],columns=['stroke'])\n",
    "\n",
    "Prediction = pd.concat([test_pid,pred_reSample_xgb2], axis=1 )\n",
    "Prediction.to_csv('../Submissions/Submission4.csv',sep=',',index =False)"
   ]
  },
  {
   "cell_type": "code",
   "execution_count": null,
   "metadata": {
    "collapsed": true
   },
   "outputs": [],
   "source": []
  }
 ],
 "metadata": {
  "kernelspec": {
   "display_name": "Python 3",
   "language": "python",
   "name": "python3"
  },
  "language_info": {
   "codemirror_mode": {
    "name": "ipython",
    "version": 3
   },
   "file_extension": ".py",
   "mimetype": "text/x-python",
   "name": "python",
   "nbconvert_exporter": "python",
   "pygments_lexer": "ipython3",
   "version": "3.6.2"
  }
 },
 "nbformat": 4,
 "nbformat_minor": 2
}
