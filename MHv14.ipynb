{
 "cells": [
  {
   "cell_type": "code",
   "execution_count": 1,
   "metadata": {
    "collapsed": true
   },
   "outputs": [],
   "source": [
    "import warnings\n",
    "warnings.simplefilter('ignore')\n",
    "\n",
    "import numpy as np\n",
    "import pandas as pd\n",
    "import matplotlib.pyplot as plt\n",
    "%matplotlib inline\n",
    "import seaborn as sns\n",
    "\n",
    "from sklearn import svm #support vector Machine\n",
    "from sklearn.ensemble import RandomForestClassifier #Random Forest\n",
    "from sklearn.model_selection import train_test_split #training and testing data split\n",
    "from sklearn import metrics #accuracy measure\n",
    "from sklearn.metrics import confusion_matrix #for confusion matrix\n",
    "\n",
    "from sklearn.model_selection import KFold #for K-fold cross validation\n",
    "from sklearn.model_selection import cross_val_score, GridSearchCV #score evaluation\n",
    "from sklearn.model_selection import cross_val_predict #prediction"
   ]
  },
  {
   "cell_type": "code",
   "execution_count": 2,
   "metadata": {},
   "outputs": [
    {
     "name": "stderr",
     "output_type": "stream",
     "text": [
      "E:\\Anaconda3\\lib\\site-packages\\sklearn\\cross_validation.py:41: DeprecationWarning: This module was deprecated in version 0.18 in favor of the model_selection module into which all the refactored classes and functions are moved. Also note that the interface of the new CV iterators are different from that of this module. This module will be removed in 0.20.\n",
      "  \"This module will be removed in 0.20.\", DeprecationWarning)\n"
     ]
    }
   ],
   "source": [
    "\n",
    "from sklearn.metrics import roc_auc_score, auc, roc_curve, accuracy_score\n",
    "from sklearn import neighbors\n",
    "from sklearn.ensemble import GradientBoostingClassifier\n",
    "from imblearn.over_sampling import SMOTE \n",
    "\n",
    "from collections import Counter\n",
    "\n",
    "import xgboost as xgb\n",
    "from xgboost.sklearn import XGBClassifier"
   ]
  },
  {
   "cell_type": "code",
   "execution_count": 3,
   "metadata": {
    "collapsed": true
   },
   "outputs": [],
   "source": [
    "train = pd.read_csv(\"../Data/train.csv\")\n",
    "test = pd.read_csv(\"../Data/test.csv\")"
   ]
  },
  {
   "cell_type": "code",
   "execution_count": 4,
   "metadata": {
    "collapsed": true
   },
   "outputs": [],
   "source": [
    "train = train.set_index('id')\n",
    "test_pid=test.pop('id')"
   ]
  },
  {
   "cell_type": "code",
   "execution_count": 60,
   "metadata": {
    "collapsed": true
   },
   "outputs": [],
   "source": [
    "train_stage = train.copy()\n",
    "test_stage = test.copy()"
   ]
  },
  {
   "cell_type": "code",
   "execution_count": 61,
   "metadata": {},
   "outputs": [
    {
     "data": {
      "text/html": [
       "<div>\n",
       "<style>\n",
       "    .dataframe thead tr:only-child th {\n",
       "        text-align: right;\n",
       "    }\n",
       "\n",
       "    .dataframe thead th {\n",
       "        text-align: left;\n",
       "    }\n",
       "\n",
       "    .dataframe tbody tr th {\n",
       "        vertical-align: top;\n",
       "    }\n",
       "</style>\n",
       "<table border=\"1\" class=\"dataframe\">\n",
       "  <thead>\n",
       "    <tr style=\"text-align: right;\">\n",
       "      <th></th>\n",
       "      <th>gender</th>\n",
       "      <th>age</th>\n",
       "      <th>hypertension</th>\n",
       "      <th>heart_disease</th>\n",
       "      <th>ever_married</th>\n",
       "      <th>work_type</th>\n",
       "      <th>Residence_type</th>\n",
       "      <th>avg_glucose_level</th>\n",
       "      <th>bmi</th>\n",
       "      <th>smoking_status</th>\n",
       "    </tr>\n",
       "  </thead>\n",
       "  <tbody>\n",
       "    <tr>\n",
       "      <th>0</th>\n",
       "      <td>Male</td>\n",
       "      <td>80.0</td>\n",
       "      <td>0</td>\n",
       "      <td>0</td>\n",
       "      <td>Yes</td>\n",
       "      <td>Private</td>\n",
       "      <td>Urban</td>\n",
       "      <td>83.84</td>\n",
       "      <td>21.1</td>\n",
       "      <td>formerly smoked</td>\n",
       "    </tr>\n",
       "    <tr>\n",
       "      <th>1</th>\n",
       "      <td>Female</td>\n",
       "      <td>74.0</td>\n",
       "      <td>0</td>\n",
       "      <td>1</td>\n",
       "      <td>Yes</td>\n",
       "      <td>Self-employed</td>\n",
       "      <td>Rural</td>\n",
       "      <td>179.50</td>\n",
       "      <td>26.0</td>\n",
       "      <td>formerly smoked</td>\n",
       "    </tr>\n",
       "    <tr>\n",
       "      <th>2</th>\n",
       "      <td>Female</td>\n",
       "      <td>14.0</td>\n",
       "      <td>0</td>\n",
       "      <td>0</td>\n",
       "      <td>No</td>\n",
       "      <td>children</td>\n",
       "      <td>Rural</td>\n",
       "      <td>95.16</td>\n",
       "      <td>21.2</td>\n",
       "      <td>NaN</td>\n",
       "    </tr>\n",
       "    <tr>\n",
       "      <th>3</th>\n",
       "      <td>Male</td>\n",
       "      <td>28.0</td>\n",
       "      <td>0</td>\n",
       "      <td>0</td>\n",
       "      <td>No</td>\n",
       "      <td>Private</td>\n",
       "      <td>Urban</td>\n",
       "      <td>94.76</td>\n",
       "      <td>23.4</td>\n",
       "      <td>NaN</td>\n",
       "    </tr>\n",
       "    <tr>\n",
       "      <th>4</th>\n",
       "      <td>Female</td>\n",
       "      <td>63.0</td>\n",
       "      <td>0</td>\n",
       "      <td>0</td>\n",
       "      <td>Yes</td>\n",
       "      <td>Govt_job</td>\n",
       "      <td>Rural</td>\n",
       "      <td>83.57</td>\n",
       "      <td>27.6</td>\n",
       "      <td>never smoked</td>\n",
       "    </tr>\n",
       "    <tr>\n",
       "      <th>5</th>\n",
       "      <td>Female</td>\n",
       "      <td>66.0</td>\n",
       "      <td>1</td>\n",
       "      <td>0</td>\n",
       "      <td>Yes</td>\n",
       "      <td>Private</td>\n",
       "      <td>Urban</td>\n",
       "      <td>219.98</td>\n",
       "      <td>32.2</td>\n",
       "      <td>never smoked</td>\n",
       "    </tr>\n",
       "    <tr>\n",
       "      <th>6</th>\n",
       "      <td>Female</td>\n",
       "      <td>49.0</td>\n",
       "      <td>0</td>\n",
       "      <td>0</td>\n",
       "      <td>Yes</td>\n",
       "      <td>Self-employed</td>\n",
       "      <td>Rural</td>\n",
       "      <td>74.03</td>\n",
       "      <td>25.1</td>\n",
       "      <td>NaN</td>\n",
       "    </tr>\n",
       "    <tr>\n",
       "      <th>7</th>\n",
       "      <td>Male</td>\n",
       "      <td>46.0</td>\n",
       "      <td>0</td>\n",
       "      <td>0</td>\n",
       "      <td>Yes</td>\n",
       "      <td>Govt_job</td>\n",
       "      <td>Urban</td>\n",
       "      <td>120.80</td>\n",
       "      <td>32.5</td>\n",
       "      <td>never smoked</td>\n",
       "    </tr>\n",
       "    <tr>\n",
       "      <th>8</th>\n",
       "      <td>Female</td>\n",
       "      <td>75.0</td>\n",
       "      <td>0</td>\n",
       "      <td>0</td>\n",
       "      <td>Yes</td>\n",
       "      <td>Self-employed</td>\n",
       "      <td>Rural</td>\n",
       "      <td>78.71</td>\n",
       "      <td>28.0</td>\n",
       "      <td>never smoked</td>\n",
       "    </tr>\n",
       "    <tr>\n",
       "      <th>9</th>\n",
       "      <td>Male</td>\n",
       "      <td>75.0</td>\n",
       "      <td>0</td>\n",
       "      <td>0</td>\n",
       "      <td>Yes</td>\n",
       "      <td>Self-employed</td>\n",
       "      <td>Urban</td>\n",
       "      <td>77.20</td>\n",
       "      <td>25.7</td>\n",
       "      <td>smokes</td>\n",
       "    </tr>\n",
       "  </tbody>\n",
       "</table>\n",
       "</div>"
      ],
      "text/plain": [
       "   gender   age  hypertension  heart_disease ever_married      work_type  \\\n",
       "0    Male  80.0             0              0          Yes        Private   \n",
       "1  Female  74.0             0              1          Yes  Self-employed   \n",
       "2  Female  14.0             0              0           No       children   \n",
       "3    Male  28.0             0              0           No        Private   \n",
       "4  Female  63.0             0              0          Yes       Govt_job   \n",
       "5  Female  66.0             1              0          Yes        Private   \n",
       "6  Female  49.0             0              0          Yes  Self-employed   \n",
       "7    Male  46.0             0              0          Yes       Govt_job   \n",
       "8  Female  75.0             0              0          Yes  Self-employed   \n",
       "9    Male  75.0             0              0          Yes  Self-employed   \n",
       "\n",
       "  Residence_type  avg_glucose_level   bmi   smoking_status  \n",
       "0          Urban              83.84  21.1  formerly smoked  \n",
       "1          Rural             179.50  26.0  formerly smoked  \n",
       "2          Rural              95.16  21.2              NaN  \n",
       "3          Urban              94.76  23.4              NaN  \n",
       "4          Rural              83.57  27.6     never smoked  \n",
       "5          Urban             219.98  32.2     never smoked  \n",
       "6          Rural              74.03  25.1              NaN  \n",
       "7          Urban             120.80  32.5     never smoked  \n",
       "8          Rural              78.71  28.0     never smoked  \n",
       "9          Urban              77.20  25.7           smokes  "
      ]
     },
     "execution_count": 61,
     "metadata": {},
     "output_type": "execute_result"
    }
   ],
   "source": [
    "test_stage.head(10)"
   ]
  },
  {
   "cell_type": "code",
   "execution_count": 62,
   "metadata": {
    "collapsed": true
   },
   "outputs": [],
   "source": [
    "combine = [train_stage, test_stage]"
   ]
  },
  {
   "cell_type": "code",
   "execution_count": 81,
   "metadata": {},
   "outputs": [
    {
     "data": {
      "text/html": [
       "<div>\n",
       "<style>\n",
       "    .dataframe thead tr:only-child th {\n",
       "        text-align: right;\n",
       "    }\n",
       "\n",
       "    .dataframe thead th {\n",
       "        text-align: left;\n",
       "    }\n",
       "\n",
       "    .dataframe tbody tr th {\n",
       "        vertical-align: top;\n",
       "    }\n",
       "</style>\n",
       "<table border=\"1\" class=\"dataframe\">\n",
       "  <thead>\n",
       "    <tr style=\"text-align: right;\">\n",
       "      <th></th>\n",
       "      <th>gender</th>\n",
       "      <th>hypertension</th>\n",
       "      <th>heart_disease</th>\n",
       "      <th>ever_married</th>\n",
       "      <th>work_type</th>\n",
       "      <th>Residence_type</th>\n",
       "      <th>bmi</th>\n",
       "      <th>smoking_status</th>\n",
       "      <th>stroke</th>\n",
       "      <th>age_cat</th>\n",
       "      <th>AGL_cat</th>\n",
       "    </tr>\n",
       "  </thead>\n",
       "  <tbody>\n",
       "    <tr>\n",
       "      <th>count</th>\n",
       "      <td>43400.000000</td>\n",
       "      <td>43400.000000</td>\n",
       "      <td>43400.000000</td>\n",
       "      <td>43400.000000</td>\n",
       "      <td>43400.000000</td>\n",
       "      <td>43400.000000</td>\n",
       "      <td>43400.00000</td>\n",
       "      <td>43400.000000</td>\n",
       "      <td>43400.000000</td>\n",
       "      <td>43400.000000</td>\n",
       "      <td>43400.000000</td>\n",
       "    </tr>\n",
       "    <tr>\n",
       "      <th>mean</th>\n",
       "      <td>1.408134</td>\n",
       "      <td>0.093571</td>\n",
       "      <td>0.047512</td>\n",
       "      <td>0.643733</td>\n",
       "      <td>1.010599</td>\n",
       "      <td>0.501290</td>\n",
       "      <td>28.67227</td>\n",
       "      <td>0.496498</td>\n",
       "      <td>0.018041</td>\n",
       "      <td>4.053295</td>\n",
       "      <td>0.251244</td>\n",
       "    </tr>\n",
       "    <tr>\n",
       "      <th>std</th>\n",
       "      <td>0.492009</td>\n",
       "      <td>0.291235</td>\n",
       "      <td>0.212733</td>\n",
       "      <td>0.478901</td>\n",
       "      <td>0.549852</td>\n",
       "      <td>0.500004</td>\n",
       "      <td>7.68118</td>\n",
       "      <td>0.771558</td>\n",
       "      <td>0.133103</td>\n",
       "      <td>2.755085</td>\n",
       "      <td>0.635052</td>\n",
       "    </tr>\n",
       "    <tr>\n",
       "      <th>min</th>\n",
       "      <td>0.000000</td>\n",
       "      <td>0.000000</td>\n",
       "      <td>0.000000</td>\n",
       "      <td>0.000000</td>\n",
       "      <td>0.000000</td>\n",
       "      <td>0.000000</td>\n",
       "      <td>10.10000</td>\n",
       "      <td>0.000000</td>\n",
       "      <td>0.000000</td>\n",
       "      <td>0.000000</td>\n",
       "      <td>0.000000</td>\n",
       "    </tr>\n",
       "    <tr>\n",
       "      <th>25%</th>\n",
       "      <td>1.000000</td>\n",
       "      <td>0.000000</td>\n",
       "      <td>0.000000</td>\n",
       "      <td>0.000000</td>\n",
       "      <td>1.000000</td>\n",
       "      <td>0.000000</td>\n",
       "      <td>23.40000</td>\n",
       "      <td>0.000000</td>\n",
       "      <td>0.000000</td>\n",
       "      <td>2.000000</td>\n",
       "      <td>0.000000</td>\n",
       "    </tr>\n",
       "    <tr>\n",
       "      <th>50%</th>\n",
       "      <td>1.000000</td>\n",
       "      <td>0.000000</td>\n",
       "      <td>0.000000</td>\n",
       "      <td>1.000000</td>\n",
       "      <td>1.000000</td>\n",
       "      <td>1.000000</td>\n",
       "      <td>28.00000</td>\n",
       "      <td>0.000000</td>\n",
       "      <td>0.000000</td>\n",
       "      <td>4.000000</td>\n",
       "      <td>0.000000</td>\n",
       "    </tr>\n",
       "    <tr>\n",
       "      <th>75%</th>\n",
       "      <td>2.000000</td>\n",
       "      <td>0.000000</td>\n",
       "      <td>0.000000</td>\n",
       "      <td>1.000000</td>\n",
       "      <td>1.000000</td>\n",
       "      <td>1.000000</td>\n",
       "      <td>32.90000</td>\n",
       "      <td>1.000000</td>\n",
       "      <td>0.000000</td>\n",
       "      <td>6.000000</td>\n",
       "      <td>0.000000</td>\n",
       "    </tr>\n",
       "    <tr>\n",
       "      <th>max</th>\n",
       "      <td>2.000000</td>\n",
       "      <td>1.000000</td>\n",
       "      <td>1.000000</td>\n",
       "      <td>1.000000</td>\n",
       "      <td>2.000000</td>\n",
       "      <td>1.000000</td>\n",
       "      <td>97.60000</td>\n",
       "      <td>2.000000</td>\n",
       "      <td>1.000000</td>\n",
       "      <td>9.000000</td>\n",
       "      <td>2.000000</td>\n",
       "    </tr>\n",
       "  </tbody>\n",
       "</table>\n",
       "</div>"
      ],
      "text/plain": [
       "             gender  hypertension  heart_disease  ever_married     work_type  \\\n",
       "count  43400.000000  43400.000000   43400.000000  43400.000000  43400.000000   \n",
       "mean       1.408134      0.093571       0.047512      0.643733      1.010599   \n",
       "std        0.492009      0.291235       0.212733      0.478901      0.549852   \n",
       "min        0.000000      0.000000       0.000000      0.000000      0.000000   \n",
       "25%        1.000000      0.000000       0.000000      0.000000      1.000000   \n",
       "50%        1.000000      0.000000       0.000000      1.000000      1.000000   \n",
       "75%        2.000000      0.000000       0.000000      1.000000      1.000000   \n",
       "max        2.000000      1.000000       1.000000      1.000000      2.000000   \n",
       "\n",
       "       Residence_type          bmi  smoking_status        stroke  \\\n",
       "count    43400.000000  43400.00000    43400.000000  43400.000000   \n",
       "mean         0.501290     28.67227        0.496498      0.018041   \n",
       "std          0.500004      7.68118        0.771558      0.133103   \n",
       "min          0.000000     10.10000        0.000000      0.000000   \n",
       "25%          0.000000     23.40000        0.000000      0.000000   \n",
       "50%          1.000000     28.00000        0.000000      0.000000   \n",
       "75%          1.000000     32.90000        1.000000      0.000000   \n",
       "max          1.000000     97.60000        2.000000      1.000000   \n",
       "\n",
       "            age_cat       AGL_cat  \n",
       "count  43400.000000  43400.000000  \n",
       "mean       4.053295      0.251244  \n",
       "std        2.755085      0.635052  \n",
       "min        0.000000      0.000000  \n",
       "25%        2.000000      0.000000  \n",
       "50%        4.000000      0.000000  \n",
       "75%        6.000000      0.000000  \n",
       "max        9.000000      2.000000  "
      ]
     },
     "execution_count": 81,
     "metadata": {},
     "output_type": "execute_result"
    }
   ],
   "source": [
    "train_stage.describe()"
   ]
  },
  {
   "cell_type": "code",
   "execution_count": 82,
   "metadata": {},
   "outputs": [
    {
     "data": {
      "text/html": [
       "<div>\n",
       "<style>\n",
       "    .dataframe thead tr:only-child th {\n",
       "        text-align: right;\n",
       "    }\n",
       "\n",
       "    .dataframe thead th {\n",
       "        text-align: left;\n",
       "    }\n",
       "\n",
       "    .dataframe tbody tr th {\n",
       "        vertical-align: top;\n",
       "    }\n",
       "</style>\n",
       "<table border=\"1\" class=\"dataframe\">\n",
       "  <thead>\n",
       "    <tr style=\"text-align: right;\">\n",
       "      <th></th>\n",
       "      <th>gender</th>\n",
       "      <th>hypertension</th>\n",
       "      <th>heart_disease</th>\n",
       "      <th>ever_married</th>\n",
       "      <th>work_type</th>\n",
       "      <th>Residence_type</th>\n",
       "      <th>bmi</th>\n",
       "      <th>smoking_status</th>\n",
       "      <th>age_cat</th>\n",
       "      <th>AGL_cat</th>\n",
       "    </tr>\n",
       "  </thead>\n",
       "  <tbody>\n",
       "    <tr>\n",
       "      <th>count</th>\n",
       "      <td>18601.000000</td>\n",
       "      <td>18601.000000</td>\n",
       "      <td>18601.000000</td>\n",
       "      <td>18601.000000</td>\n",
       "      <td>18601.000000</td>\n",
       "      <td>18601.000000</td>\n",
       "      <td>18601.000000</td>\n",
       "      <td>18601.000000</td>\n",
       "      <td>18601.000000</td>\n",
       "      <td>18601.000000</td>\n",
       "    </tr>\n",
       "    <tr>\n",
       "      <th>mean</th>\n",
       "      <td>1.410731</td>\n",
       "      <td>0.093167</td>\n",
       "      <td>0.048062</td>\n",
       "      <td>0.641847</td>\n",
       "      <td>1.009301</td>\n",
       "      <td>0.500511</td>\n",
       "      <td>28.616012</td>\n",
       "      <td>0.498737</td>\n",
       "      <td>4.034837</td>\n",
       "      <td>0.246707</td>\n",
       "    </tr>\n",
       "    <tr>\n",
       "      <th>std</th>\n",
       "      <td>0.492198</td>\n",
       "      <td>0.290674</td>\n",
       "      <td>0.213903</td>\n",
       "      <td>0.479470</td>\n",
       "      <td>0.546120</td>\n",
       "      <td>0.500013</td>\n",
       "      <td>7.671162</td>\n",
       "      <td>0.774951</td>\n",
       "      <td>2.759825</td>\n",
       "      <td>0.627885</td>\n",
       "    </tr>\n",
       "    <tr>\n",
       "      <th>min</th>\n",
       "      <td>0.000000</td>\n",
       "      <td>0.000000</td>\n",
       "      <td>0.000000</td>\n",
       "      <td>0.000000</td>\n",
       "      <td>0.000000</td>\n",
       "      <td>0.000000</td>\n",
       "      <td>10.200000</td>\n",
       "      <td>0.000000</td>\n",
       "      <td>0.000000</td>\n",
       "      <td>0.000000</td>\n",
       "    </tr>\n",
       "    <tr>\n",
       "      <th>25%</th>\n",
       "      <td>1.000000</td>\n",
       "      <td>0.000000</td>\n",
       "      <td>0.000000</td>\n",
       "      <td>0.000000</td>\n",
       "      <td>1.000000</td>\n",
       "      <td>0.000000</td>\n",
       "      <td>23.400000</td>\n",
       "      <td>0.000000</td>\n",
       "      <td>2.000000</td>\n",
       "      <td>0.000000</td>\n",
       "    </tr>\n",
       "    <tr>\n",
       "      <th>50%</th>\n",
       "      <td>1.000000</td>\n",
       "      <td>0.000000</td>\n",
       "      <td>0.000000</td>\n",
       "      <td>1.000000</td>\n",
       "      <td>1.000000</td>\n",
       "      <td>1.000000</td>\n",
       "      <td>27.900000</td>\n",
       "      <td>0.000000</td>\n",
       "      <td>4.000000</td>\n",
       "      <td>0.000000</td>\n",
       "    </tr>\n",
       "    <tr>\n",
       "      <th>75%</th>\n",
       "      <td>2.000000</td>\n",
       "      <td>0.000000</td>\n",
       "      <td>0.000000</td>\n",
       "      <td>1.000000</td>\n",
       "      <td>1.000000</td>\n",
       "      <td>1.000000</td>\n",
       "      <td>32.800000</td>\n",
       "      <td>1.000000</td>\n",
       "      <td>6.000000</td>\n",
       "      <td>0.000000</td>\n",
       "    </tr>\n",
       "    <tr>\n",
       "      <th>max</th>\n",
       "      <td>2.000000</td>\n",
       "      <td>1.000000</td>\n",
       "      <td>1.000000</td>\n",
       "      <td>1.000000</td>\n",
       "      <td>2.000000</td>\n",
       "      <td>1.000000</td>\n",
       "      <td>88.300000</td>\n",
       "      <td>2.000000</td>\n",
       "      <td>9.000000</td>\n",
       "      <td>2.000000</td>\n",
       "    </tr>\n",
       "  </tbody>\n",
       "</table>\n",
       "</div>"
      ],
      "text/plain": [
       "             gender  hypertension  heart_disease  ever_married     work_type  \\\n",
       "count  18601.000000  18601.000000   18601.000000  18601.000000  18601.000000   \n",
       "mean       1.410731      0.093167       0.048062      0.641847      1.009301   \n",
       "std        0.492198      0.290674       0.213903      0.479470      0.546120   \n",
       "min        0.000000      0.000000       0.000000      0.000000      0.000000   \n",
       "25%        1.000000      0.000000       0.000000      0.000000      1.000000   \n",
       "50%        1.000000      0.000000       0.000000      1.000000      1.000000   \n",
       "75%        2.000000      0.000000       0.000000      1.000000      1.000000   \n",
       "max        2.000000      1.000000       1.000000      1.000000      2.000000   \n",
       "\n",
       "       Residence_type           bmi  smoking_status       age_cat  \\\n",
       "count    18601.000000  18601.000000    18601.000000  18601.000000   \n",
       "mean         0.500511     28.616012        0.498737      4.034837   \n",
       "std          0.500013      7.671162        0.774951      2.759825   \n",
       "min          0.000000     10.200000        0.000000      0.000000   \n",
       "25%          0.000000     23.400000        0.000000      2.000000   \n",
       "50%          1.000000     27.900000        0.000000      4.000000   \n",
       "75%          1.000000     32.800000        1.000000      6.000000   \n",
       "max          1.000000     88.300000        2.000000      9.000000   \n",
       "\n",
       "            AGL_cat  \n",
       "count  18601.000000  \n",
       "mean       0.246707  \n",
       "std        0.627885  \n",
       "min        0.000000  \n",
       "25%        0.000000  \n",
       "50%        0.000000  \n",
       "75%        0.000000  \n",
       "max        2.000000  "
      ]
     },
     "execution_count": 82,
     "metadata": {},
     "output_type": "execute_result"
    }
   ],
   "source": [
    "test_stage.describe()"
   ]
  },
  {
   "cell_type": "code",
   "execution_count": 65,
   "metadata": {
    "scrolled": true
   },
   "outputs": [
    {
     "data": {
      "text/html": [
       "<style  type=\"text/css\" >\n",
       "    #T_400b8880_403f_11e8_9f90_847beb42de1crow0_col0 {\n",
       "            background-color:  #ffff66;\n",
       "        }    #T_400b8880_403f_11e8_9f90_847beb42de1crow1_col0 {\n",
       "            background-color:  #ffff66;\n",
       "        }    #T_400b8880_403f_11e8_9f90_847beb42de1crow2_col0 {\n",
       "            background-color:  #ffff66;\n",
       "        }    #T_400b8880_403f_11e8_9f90_847beb42de1crow3_col0 {\n",
       "            background-color:  #ffff66;\n",
       "        }    #T_400b8880_403f_11e8_9f90_847beb42de1crow4_col0 {\n",
       "            background-color:  #fbfd66;\n",
       "        }    #T_400b8880_403f_11e8_9f90_847beb42de1crow5_col0 {\n",
       "            background-color:  #f3f966;\n",
       "        }    #T_400b8880_403f_11e8_9f90_847beb42de1crow6_col0 {\n",
       "            background-color:  #ebf566;\n",
       "        }    #T_400b8880_403f_11e8_9f90_847beb42de1crow7_col0 {\n",
       "            background-color:  #e1f066;\n",
       "        }    #T_400b8880_403f_11e8_9f90_847beb42de1crow8_col0 {\n",
       "            background-color:  #d8ec66;\n",
       "        }    #T_400b8880_403f_11e8_9f90_847beb42de1crow9_col0 {\n",
       "            background-color:  #b7db66;\n",
       "        }    #T_400b8880_403f_11e8_9f90_847beb42de1crow10_col0 {\n",
       "            background-color:  #acd666;\n",
       "        }    #T_400b8880_403f_11e8_9f90_847beb42de1crow11_col0 {\n",
       "            background-color:  #66b266;\n",
       "        }    #T_400b8880_403f_11e8_9f90_847beb42de1crow12_col0 {\n",
       "            background-color:  #008066;\n",
       "        }</style>  \n",
       "<table id=\"T_400b8880_403f_11e8_9f90_847beb42de1c\" > \n",
       "<thead>    <tr> \n",
       "        <th class=\"blank level0\" ></th> \n",
       "        <th class=\"col_heading level0 col0\" >stroke</th> \n",
       "    </tr>    <tr> \n",
       "        <th class=\"index_name level0\" >age_Range</th> \n",
       "        <th class=\"blank\" ></th> \n",
       "    </tr></thead> \n",
       "<tbody>    <tr> \n",
       "        <th id=\"T_400b8880_403f_11e8_9f90_847beb42de1c\" class=\"row_heading level0 row0\" >(0.079, 7.0]</th> \n",
       "        <td id=\"T_400b8880_403f_11e8_9f90_847beb42de1crow0_col0\" class=\"data row0 col0\" >0.000286041</td> \n",
       "    </tr>    <tr> \n",
       "        <th id=\"T_400b8880_403f_11e8_9f90_847beb42de1c\" class=\"row_heading level0 row1\" >(7.0, 16.0]</th> \n",
       "        <td id=\"T_400b8880_403f_11e8_9f90_847beb42de1crow1_col0\" class=\"data row1 col0\" >0.000280112</td> \n",
       "    </tr>    <tr> \n",
       "        <th id=\"T_400b8880_403f_11e8_9f90_847beb42de1c\" class=\"row_heading level0 row2\" >(16.0, 22.0]</th> \n",
       "        <td id=\"T_400b8880_403f_11e8_9f90_847beb42de1crow2_col0\" class=\"data row2 col0\" >0.000336134</td> \n",
       "    </tr>    <tr> \n",
       "        <th id=\"T_400b8880_403f_11e8_9f90_847beb42de1c\" class=\"row_heading level0 row3\" >(22.0, 29.0]</th> \n",
       "        <td id=\"T_400b8880_403f_11e8_9f90_847beb42de1crow3_col0\" class=\"data row3 col0\" >0.00027248</td> \n",
       "    </tr>    <tr> \n",
       "        <th id=\"T_400b8880_403f_11e8_9f90_847beb42de1c\" class=\"row_heading level0 row4\" >(29.0, 35.0]</th> \n",
       "        <td id=\"T_400b8880_403f_11e8_9f90_847beb42de1crow4_col0\" class=\"data row4 col0\" >0.00187793</td> \n",
       "    </tr>    <tr> \n",
       "        <th id=\"T_400b8880_403f_11e8_9f90_847beb42de1c\" class=\"row_heading level0 row5\" >(35.0, 41.0]</th> \n",
       "        <td id=\"T_400b8880_403f_11e8_9f90_847beb42de1crow5_col0\" class=\"data row5 col0\" >0.00464711</td> \n",
       "    </tr>    <tr> \n",
       "        <th id=\"T_400b8880_403f_11e8_9f90_847beb42de1c\" class=\"row_heading level0 row6\" >(41.0, 46.0]</th> \n",
       "        <td id=\"T_400b8880_403f_11e8_9f90_847beb42de1crow6_col0\" class=\"data row6 col0\" >0.00761663</td> \n",
       "    </tr>    <tr> \n",
       "        <th id=\"T_400b8880_403f_11e8_9f90_847beb42de1c\" class=\"row_heading level0 row7\" >(46.0, 51.0]</th> \n",
       "        <td id=\"T_400b8880_403f_11e8_9f90_847beb42de1crow7_col0\" class=\"data row7 col0\" >0.0110594</td> \n",
       "    </tr>    <tr> \n",
       "        <th id=\"T_400b8880_403f_11e8_9f90_847beb42de1c\" class=\"row_heading level0 row8\" >(51.0, 56.0]</th> \n",
       "        <td id=\"T_400b8880_403f_11e8_9f90_847beb42de1crow8_col0\" class=\"data row8 col0\" >0.0140928</td> \n",
       "    </tr>    <tr> \n",
       "        <th id=\"T_400b8880_403f_11e8_9f90_847beb42de1c\" class=\"row_heading level0 row9\" >(56.0, 61.0]</th> \n",
       "        <td id=\"T_400b8880_403f_11e8_9f90_847beb42de1crow9_col0\" class=\"data row9 col0\" >0.025641</td> \n",
       "    </tr>    <tr> \n",
       "        <th id=\"T_400b8880_403f_11e8_9f90_847beb42de1c\" class=\"row_heading level0 row10\" >(61.0, 67.0]</th> \n",
       "        <td id=\"T_400b8880_403f_11e8_9f90_847beb42de1crow10_col0\" class=\"data row10 col0\" >0.0294028</td> \n",
       "    </tr>    <tr> \n",
       "        <th id=\"T_400b8880_403f_11e8_9f90_847beb42de1c\" class=\"row_heading level0 row11\" >(67.0, 76.0]</th> \n",
       "        <td id=\"T_400b8880_403f_11e8_9f90_847beb42de1crow11_col0\" class=\"data row11 col0\" >0.0540464</td> \n",
       "    </tr>    <tr> \n",
       "        <th id=\"T_400b8880_403f_11e8_9f90_847beb42de1c\" class=\"row_heading level0 row12\" >(76.0, 82.0]</th> \n",
       "        <td id=\"T_400b8880_403f_11e8_9f90_847beb42de1crow12_col0\" class=\"data row12 col0\" >0.09</td> \n",
       "    </tr></tbody> \n",
       "</table> "
      ],
      "text/plain": [
       "<pandas.io.formats.style.Styler at 0x10ab701dba8>"
      ]
     },
     "execution_count": 65,
     "metadata": {},
     "output_type": "execute_result"
    }
   ],
   "source": [
    "train_stage['age_Range']=pd.qcut(train_stage['age'],13)\n",
    "train_stage.groupby(['age_Range'])['stroke'].mean().to_frame().style.background_gradient(cmap='summer_r')"
   ]
  },
  {
   "cell_type": "code",
   "execution_count": 66,
   "metadata": {},
   "outputs": [
    {
     "data": {
      "text/plain": [
       "<matplotlib.axes._subplots.AxesSubplot at 0x10ab752d780>"
      ]
     },
     "execution_count": 66,
     "metadata": {},
     "output_type": "execute_result"
    },
    {
     "data": {
      "image/png": "[encoded data removed]",
      "text/plain": [
       "<matplotlib.figure.Figure at 0x10ab701de80>"
      ]
     },
     "metadata": {},
     "output_type": "display_data"
    }
   ],
   "source": [
    "sns.distplot(train_stage.avg_glucose_level)"
   ]
  },
  {
   "cell_type": "code",
   "execution_count": 67,
   "metadata": {},
   "outputs": [
    {
     "data": {
      "text/html": [
       "<style  type=\"text/css\" >\n",
       "    #T_40be31ba_403f_11e8_854d_847beb42de1crow0_col0 {\n",
       "            background-color:  #ffff66;\n",
       "        }    #T_40be31ba_403f_11e8_854d_847beb42de1crow1_col0 {\n",
       "            background-color:  #d9ec66;\n",
       "        }    #T_40be31ba_403f_11e8_854d_847beb42de1crow2_col0 {\n",
       "            background-color:  #3b9d66;\n",
       "        }    #T_40be31ba_403f_11e8_854d_847beb42de1crow3_col0 {\n",
       "            background-color:  #168b66;\n",
       "        }    #T_40be31ba_403f_11e8_854d_847beb42de1crow4_col0 {\n",
       "            background-color:  #269266;\n",
       "        }    #T_40be31ba_403f_11e8_854d_847beb42de1crow5_col0 {\n",
       "            background-color:  #249266;\n",
       "        }    #T_40be31ba_403f_11e8_854d_847beb42de1crow6_col0 {\n",
       "            background-color:  #52a866;\n",
       "        }    #T_40be31ba_403f_11e8_854d_847beb42de1crow7_col0 {\n",
       "            background-color:  #008066;\n",
       "        }</style>  \n",
       "<table id=\"T_40be31ba_403f_11e8_854d_847beb42de1c\" > \n",
       "<thead>    <tr> \n",
       "        <th class=\"blank level0\" ></th> \n",
       "        <th class=\"col_heading level0 col0\" >stroke</th> \n",
       "    </tr>    <tr> \n",
       "        <th class=\"index_name level0\" >AGL_Range</th> \n",
       "        <th class=\"blank\" ></th> \n",
       "    </tr></thead> \n",
       "<tbody>    <tr> \n",
       "        <th id=\"T_40be31ba_403f_11e8_854d_847beb42de1c\" class=\"row_heading level0 row0\" >(140.029, 152.87]</th> \n",
       "        <td id=\"T_40be31ba_403f_11e8_854d_847beb42de1crow0_col0\" class=\"data row0 col0\" >0.0153649</td> \n",
       "    </tr>    <tr> \n",
       "        <th id=\"T_40be31ba_403f_11e8_854d_847beb42de1c\" class=\"row_heading level0 row1\" >(152.87, 172.795]</th> \n",
       "        <td id=\"T_40be31ba_403f_11e8_854d_847beb42de1crow1_col0\" class=\"data row1 col0\" >0.0218509</td> \n",
       "    </tr>    <tr> \n",
       "        <th id=\"T_40be31ba_403f_11e8_854d_847beb42de1c\" class=\"row_heading level0 row2\" >(172.795, 189.23]</th> \n",
       "        <td id=\"T_40be31ba_403f_11e8_854d_847beb42de1crow2_col0\" class=\"data row2 col0\" >0.0487805</td> \n",
       "    </tr>    <tr> \n",
       "        <th id=\"T_40be31ba_403f_11e8_854d_847beb42de1c\" class=\"row_heading level0 row3\" >(189.23, 200.57]</th> \n",
       "        <td id=\"T_40be31ba_403f_11e8_854d_847beb42de1crow3_col0\" class=\"data row3 col0\" >0.0551282</td> \n",
       "    </tr>    <tr> \n",
       "        <th id=\"T_40be31ba_403f_11e8_854d_847beb42de1c\" class=\"row_heading level0 row4\" >(200.57, 210.15]</th> \n",
       "        <td id=\"T_40be31ba_403f_11e8_854d_847beb42de1crow4_col0\" class=\"data row4 col0\" >0.0524968</td> \n",
       "    </tr>    <tr> \n",
       "        <th id=\"T_40be31ba_403f_11e8_854d_847beb42de1c\" class=\"row_heading level0 row5\" >(210.15, 219.065]</th> \n",
       "        <td id=\"T_40be31ba_403f_11e8_854d_847beb42de1crow5_col0\" class=\"data row5 col0\" >0.0527671</td> \n",
       "    </tr>    <tr> \n",
       "        <th id=\"T_40be31ba_403f_11e8_854d_847beb42de1c\" class=\"row_heading level0 row6\" >(219.065, 231.02]</th> \n",
       "        <td id=\"T_40be31ba_403f_11e8_854d_847beb42de1crow6_col0\" class=\"data row6 col0\" >0.0449294</td> \n",
       "    </tr>    <tr> \n",
       "        <th id=\"T_40be31ba_403f_11e8_854d_847beb42de1c\" class=\"row_heading level0 row7\" >(231.02, 291.05]</th> \n",
       "        <td id=\"T_40be31ba_403f_11e8_854d_847beb42de1crow7_col0\" class=\"data row7 col0\" >0.0589744</td> \n",
       "    </tr></tbody> \n",
       "</table> "
      ],
      "text/plain": [
       "<pandas.io.formats.style.Styler at 0x10ab8e1e9e8>"
      ]
     },
     "execution_count": 67,
     "metadata": {},
     "output_type": "execute_result"
    }
   ],
   "source": [
    "train_stage['AGL_Range']=pd.qcut(train_stage.loc[(train_stage['avg_glucose_level']>140),'avg_glucose_level'],8)\n",
    "train_stage.groupby(['AGL_Range'])['stroke'].mean().to_frame().style.background_gradient(cmap='summer_r')"
   ]
  },
  {
   "cell_type": "code",
   "execution_count": 68,
   "metadata": {},
   "outputs": [
    {
     "data": {
      "text/html": [
       "<style  type=\"text/css\" >\n",
       "    #T_412293c6_403f_11e8_8231_847beb42de1crow0_col0 {\n",
       "            background-color:  #ffff66;\n",
       "        }    #T_412293c6_403f_11e8_8231_847beb42de1crow1_col0 {\n",
       "            background-color:  #ffff66;\n",
       "        }    #T_412293c6_403f_11e8_8231_847beb42de1crow2_col0 {\n",
       "            background-color:  #b8dc66;\n",
       "        }    #T_412293c6_403f_11e8_8231_847beb42de1crow3_col0 {\n",
       "            background-color:  #94ca66;\n",
       "        }    #T_412293c6_403f_11e8_8231_847beb42de1crow4_col0 {\n",
       "            background-color:  #7abc66;\n",
       "        }    #T_412293c6_403f_11e8_8231_847beb42de1crow5_col0 {\n",
       "            background-color:  #78bc66;\n",
       "        }    #T_412293c6_403f_11e8_8231_847beb42de1crow6_col0 {\n",
       "            background-color:  #8dc666;\n",
       "        }    #T_412293c6_403f_11e8_8231_847beb42de1crow7_col0 {\n",
       "            background-color:  #57ab66;\n",
       "        }    #T_412293c6_403f_11e8_8231_847beb42de1crow8_col0 {\n",
       "            background-color:  #299466;\n",
       "        }    #T_412293c6_403f_11e8_8231_847beb42de1crow9_col0 {\n",
       "            background-color:  #219066;\n",
       "        }    #T_412293c6_403f_11e8_8231_847beb42de1crow10_col0 {\n",
       "            background-color:  #54aa66;\n",
       "        }    #T_412293c6_403f_11e8_8231_847beb42de1crow11_col0 {\n",
       "            background-color:  #56ab66;\n",
       "        }    #T_412293c6_403f_11e8_8231_847beb42de1crow12_col0 {\n",
       "            background-color:  #48a366;\n",
       "        }    #T_412293c6_403f_11e8_8231_847beb42de1crow13_col0 {\n",
       "            background-color:  #008066;\n",
       "        }    #T_412293c6_403f_11e8_8231_847beb42de1crow14_col0 {\n",
       "            background-color:  #47a366;\n",
       "        }    #T_412293c6_403f_11e8_8231_847beb42de1crow15_col0 {\n",
       "            background-color:  #66b266;\n",
       "        }    #T_412293c6_403f_11e8_8231_847beb42de1crow16_col0 {\n",
       "            background-color:  #6ab466;\n",
       "        }    #T_412293c6_403f_11e8_8231_847beb42de1crow17_col0 {\n",
       "            background-color:  #4fa766;\n",
       "        }    #T_412293c6_403f_11e8_8231_847beb42de1crow18_col0 {\n",
       "            background-color:  #7fbf66;\n",
       "        }    #T_412293c6_403f_11e8_8231_847beb42de1crow19_col0 {\n",
       "            background-color:  #7abc66;\n",
       "        }</style>  \n",
       "<table id=\"T_412293c6_403f_11e8_8231_847beb42de1c\" > \n",
       "<thead>    <tr> \n",
       "        <th class=\"blank level0\" ></th> \n",
       "        <th class=\"col_heading level0 col0\" >stroke</th> \n",
       "    </tr>    <tr> \n",
       "        <th class=\"index_name level0\" >bmi_range</th> \n",
       "        <th class=\"blank\" ></th> \n",
       "    </tr></thead> \n",
       "<tbody>    <tr> \n",
       "        <th id=\"T_412293c6_403f_11e8_8231_847beb42de1c\" class=\"row_heading level0 row0\" >(10.099, 17.4]</th> \n",
       "        <td id=\"T_412293c6_403f_11e8_8231_847beb42de1crow0_col0\" class=\"data row0 col0\" >0.00232666</td> \n",
       "    </tr>    <tr> \n",
       "        <th id=\"T_412293c6_403f_11e8_8231_847beb42de1c\" class=\"row_heading level0 row1\" >(17.4, 19.4]</th> \n",
       "        <td id=\"T_412293c6_403f_11e8_8231_847beb42de1crow1_col0\" class=\"data row1 col0\" >0.00231911</td> \n",
       "    </tr>    <tr> \n",
       "        <th id=\"T_412293c6_403f_11e8_8231_847beb42de1c\" class=\"row_heading level0 row2\" >(19.4, 20.9]</th> \n",
       "        <td id=\"T_412293c6_403f_11e8_8231_847beb42de1crow2_col0\" class=\"data row2 col0\" >0.00881489</td> \n",
       "    </tr>    <tr> \n",
       "        <th id=\"T_412293c6_403f_11e8_8231_847beb42de1c\" class=\"row_heading level0 row3\" >(20.9, 22.2]</th> \n",
       "        <td id=\"T_412293c6_403f_11e8_8231_847beb42de1crow3_col0\" class=\"data row3 col0\" >0.0120874</td> \n",
       "    </tr>    <tr> \n",
       "        <th id=\"T_412293c6_403f_11e8_8231_847beb42de1c\" class=\"row_heading level0 row4\" >(22.2, 23.2]</th> \n",
       "        <td id=\"T_412293c6_403f_11e8_8231_847beb42de1crow4_col0\" class=\"data row4 col0\" >0.0143992</td> \n",
       "    </tr>    <tr> \n",
       "        <th id=\"T_412293c6_403f_11e8_8231_847beb42de1c\" class=\"row_heading level0 row5\" >(23.2, 24.2]</th> \n",
       "        <td id=\"T_412293c6_403f_11e8_8231_847beb42de1crow5_col0\" class=\"data row5 col0\" >0.0145814</td> \n",
       "    </tr>    <tr> \n",
       "        <th id=\"T_412293c6_403f_11e8_8231_847beb42de1c\" class=\"row_heading level0 row6\" >(24.2, 25.1]</th> \n",
       "        <td id=\"T_412293c6_403f_11e8_8231_847beb42de1crow6_col0\" class=\"data row6 col0\" >0.0127202</td> \n",
       "    </tr>    <tr> \n",
       "        <th id=\"T_412293c6_403f_11e8_8231_847beb42de1c\" class=\"row_heading level0 row7\" >(25.1, 26.0]</th> \n",
       "        <td id=\"T_412293c6_403f_11e8_8231_847beb42de1crow7_col0\" class=\"data row7 col0\" >0.0176023</td> \n",
       "    </tr>    <tr> \n",
       "        <th id=\"T_412293c6_403f_11e8_8231_847beb42de1c\" class=\"row_heading level0 row8\" >(26.0, 26.9]</th> \n",
       "        <td id=\"T_412293c6_403f_11e8_8231_847beb42de1crow8_col0\" class=\"data row8 col0\" >0.021838</td> \n",
       "    </tr>    <tr> \n",
       "        <th id=\"T_412293c6_403f_11e8_8231_847beb42de1c\" class=\"row_heading level0 row9\" >(26.9, 27.7]</th> \n",
       "        <td id=\"T_412293c6_403f_11e8_8231_847beb42de1crow9_col0\" class=\"data row9 col0\" >0.0225451</td> \n",
       "    </tr>    <tr> \n",
       "        <th id=\"T_412293c6_403f_11e8_8231_847beb42de1c\" class=\"row_heading level0 row10\" >(27.7, 28.7]</th> \n",
       "        <td id=\"T_412293c6_403f_11e8_8231_847beb42de1crow10_col0\" class=\"data row10 col0\" >0.0178727</td> \n",
       "    </tr>    <tr> \n",
       "        <th id=\"T_412293c6_403f_11e8_8231_847beb42de1c\" class=\"row_heading level0 row11\" >(28.7, 29.6]</th> \n",
       "        <td id=\"T_412293c6_403f_11e8_8231_847beb42de1crow11_col0\" class=\"data row11 col0\" >0.0177215</td> \n",
       "    </tr>    <tr> \n",
       "        <th id=\"T_412293c6_403f_11e8_8231_847beb42de1c\" class=\"row_heading level0 row12\" >(29.6, 30.6]</th> \n",
       "        <td id=\"T_412293c6_403f_11e8_8231_847beb42de1crow12_col0\" class=\"data row12 col0\" >0.0189552</td> \n",
       "    </tr>    <tr> \n",
       "        <th id=\"T_412293c6_403f_11e8_8231_847beb42de1c\" class=\"row_heading level0 row13\" >(30.6, 31.6]</th> \n",
       "        <td id=\"T_412293c6_403f_11e8_8231_847beb42de1crow13_col0\" class=\"data row13 col0\" >0.0255624</td> \n",
       "    </tr>    <tr> \n",
       "        <th id=\"T_412293c6_403f_11e8_8231_847beb42de1c\" class=\"row_heading level0 row14\" >(31.6, 32.9]</th> \n",
       "        <td id=\"T_412293c6_403f_11e8_8231_847beb42de1crow14_col0\" class=\"data row14 col0\" >0.0191111</td> \n",
       "    </tr>    <tr> \n",
       "        <th id=\"T_412293c6_403f_11e8_8231_847beb42de1c\" class=\"row_heading level0 row15\" >(32.9, 34.3]</th> \n",
       "        <td id=\"T_412293c6_403f_11e8_8231_847beb42de1crow15_col0\" class=\"data row15 col0\" >0.0162437</td> \n",
       "    </tr>    <tr> \n",
       "        <th id=\"T_412293c6_403f_11e8_8231_847beb42de1c\" class=\"row_heading level0 row16\" >(34.3, 36.1]</th> \n",
       "        <td id=\"T_412293c6_403f_11e8_8231_847beb42de1crow16_col0\" class=\"data row16 col0\" >0.0158807</td> \n",
       "    </tr>    <tr> \n",
       "        <th id=\"T_412293c6_403f_11e8_8231_847beb42de1c\" class=\"row_heading level0 row17\" >(36.1, 38.6]</th> \n",
       "        <td id=\"T_412293c6_403f_11e8_8231_847beb42de1crow17_col0\" class=\"data row17 col0\" >0.0183789</td> \n",
       "    </tr>    <tr> \n",
       "        <th id=\"T_412293c6_403f_11e8_8231_847beb42de1c\" class=\"row_heading level0 row18\" >(38.6, 42.6]</th> \n",
       "        <td id=\"T_412293c6_403f_11e8_8231_847beb42de1crow18_col0\" class=\"data row18 col0\" >0.013949</td> \n",
       "    </tr>    <tr> \n",
       "        <th id=\"T_412293c6_403f_11e8_8231_847beb42de1c\" class=\"row_heading level0 row19\" >(42.6, 97.6]</th> \n",
       "        <td id=\"T_412293c6_403f_11e8_8231_847beb42de1crow19_col0\" class=\"data row19 col0\" >0.0144718</td> \n",
       "    </tr></tbody> \n",
       "</table> "
      ],
      "text/plain": [
       "<pandas.io.formats.style.Styler at 0x10ab700dc50>"
      ]
     },
     "execution_count": 68,
     "metadata": {},
     "output_type": "execute_result"
    }
   ],
   "source": [
    "train_stage['bmi_range']=pd.qcut(train_stage['bmi'],20)\n",
    "train_stage.groupby(['bmi_range'])['stroke'].mean().to_frame().style.background_gradient(cmap='summer_r')"
   ]
  },
  {
   "cell_type": "code",
   "execution_count": 69,
   "metadata": {
    "collapsed": true
   },
   "outputs": [],
   "source": [
    "for dataset in combine:\n",
    "    dataset['age_cat']=0\n",
    "    #train_stage.loc[train_stage['GrossIncome']<=3650,'GrossIncome_cat']=0\n",
    "    dataset.loc[(dataset['age']>11)&(dataset['age']<=22),'age_cat']=1\n",
    "    dataset.loc[(dataset['age']>22)&(dataset['age']<=31),'age_cat']=2\n",
    "    dataset.loc[(dataset['age']>31)&(dataset['age']<=40),'age_cat']=3\n",
    "    dataset.loc[(dataset['age']>40)&(dataset['age']<=47),'age_cat']=4\n",
    "    dataset.loc[(dataset['age']>47)&(dataset['age']<=54),'age_cat']=5\n",
    "    dataset.loc[(dataset['age']>54)&(dataset['age']<=62),'age_cat']=6\n",
    "    dataset.loc[(dataset['age']>62)&(dataset['age']<=72),'age_cat']=7\n",
    "    dataset.loc[(dataset['age']>72),'age_cat']=9\n",
    "    \n",
    "    dataset['AGL_cat']=0\n",
    "    dataset.loc[(dataset['avg_glucose_level']>140)&(dataset['avg_glucose_level']<=173),'AGL_cat']=1\n",
    "    dataset.loc[(dataset['avg_glucose_level']>173),'AGL_cat']=2 \n",
    "    \n",
    "\n",
    "\n",
    "train_stage = train_stage.drop(['age_Range','age'], axis=1)\n",
    "test_stage = test_stage.drop(['age'], axis=1)\n",
    "\n",
    "train_stage = train_stage.drop(['AGL_Range','avg_glucose_level'], axis=1)\n",
    "test_stage = test_stage.drop(['avg_glucose_level'], axis=1)"
   ]
  },
  {
   "cell_type": "code",
   "execution_count": 70,
   "metadata": {},
   "outputs": [
    {
     "data": {
      "text/html": [
       "<div>\n",
       "<style>\n",
       "    .dataframe thead tr:only-child th {\n",
       "        text-align: right;\n",
       "    }\n",
       "\n",
       "    .dataframe thead th {\n",
       "        text-align: left;\n",
       "    }\n",
       "\n",
       "    .dataframe tbody tr th {\n",
       "        vertical-align: top;\n",
       "    }\n",
       "</style>\n",
       "<table border=\"1\" class=\"dataframe\">\n",
       "  <thead>\n",
       "    <tr style=\"text-align: right;\">\n",
       "      <th></th>\n",
       "      <th></th>\n",
       "      <th>stroke</th>\n",
       "    </tr>\n",
       "    <tr>\n",
       "      <th>age_cat</th>\n",
       "      <th>AGL_cat</th>\n",
       "      <th></th>\n",
       "    </tr>\n",
       "  </thead>\n",
       "  <tbody>\n",
       "    <tr>\n",
       "      <th rowspan=\"3\" valign=\"top\">0</th>\n",
       "      <th>0</th>\n",
       "      <td>0.000211</td>\n",
       "    </tr>\n",
       "    <tr>\n",
       "      <th>1</th>\n",
       "      <td>0.000000</td>\n",
       "    </tr>\n",
       "    <tr>\n",
       "      <th>2</th>\n",
       "      <td>0.000000</td>\n",
       "    </tr>\n",
       "    <tr>\n",
       "      <th rowspan=\"3\" valign=\"top\">1</th>\n",
       "      <th>0</th>\n",
       "      <td>0.000413</td>\n",
       "    </tr>\n",
       "    <tr>\n",
       "      <th>1</th>\n",
       "      <td>0.000000</td>\n",
       "    </tr>\n",
       "    <tr>\n",
       "      <th>2</th>\n",
       "      <td>0.000000</td>\n",
       "    </tr>\n",
       "    <tr>\n",
       "      <th rowspan=\"3\" valign=\"top\">2</th>\n",
       "      <th>0</th>\n",
       "      <td>0.000223</td>\n",
       "    </tr>\n",
       "    <tr>\n",
       "      <th>1</th>\n",
       "      <td>0.000000</td>\n",
       "    </tr>\n",
       "    <tr>\n",
       "      <th>2</th>\n",
       "      <td>0.000000</td>\n",
       "    </tr>\n",
       "    <tr>\n",
       "      <th rowspan=\"3\" valign=\"top\">3</th>\n",
       "      <th>0</th>\n",
       "      <td>0.004031</td>\n",
       "    </tr>\n",
       "    <tr>\n",
       "      <th>1</th>\n",
       "      <td>0.000000</td>\n",
       "    </tr>\n",
       "    <tr>\n",
       "      <th>2</th>\n",
       "      <td>0.010791</td>\n",
       "    </tr>\n",
       "    <tr>\n",
       "      <th rowspan=\"3\" valign=\"top\">4</th>\n",
       "      <th>0</th>\n",
       "      <td>0.005661</td>\n",
       "    </tr>\n",
       "    <tr>\n",
       "      <th>1</th>\n",
       "      <td>0.012821</td>\n",
       "    </tr>\n",
       "    <tr>\n",
       "      <th>2</th>\n",
       "      <td>0.015584</td>\n",
       "    </tr>\n",
       "    <tr>\n",
       "      <th rowspan=\"3\" valign=\"top\">5</th>\n",
       "      <th>0</th>\n",
       "      <td>0.011019</td>\n",
       "    </tr>\n",
       "    <tr>\n",
       "      <th>1</th>\n",
       "      <td>0.029240</td>\n",
       "    </tr>\n",
       "    <tr>\n",
       "      <th>2</th>\n",
       "      <td>0.020797</td>\n",
       "    </tr>\n",
       "    <tr>\n",
       "      <th rowspan=\"3\" valign=\"top\">6</th>\n",
       "      <th>0</th>\n",
       "      <td>0.016975</td>\n",
       "    </tr>\n",
       "    <tr>\n",
       "      <th>1</th>\n",
       "      <td>0.022624</td>\n",
       "    </tr>\n",
       "    <tr>\n",
       "      <th>2</th>\n",
       "      <td>0.043716</td>\n",
       "    </tr>\n",
       "    <tr>\n",
       "      <th rowspan=\"3\" valign=\"top\">7</th>\n",
       "      <th>0</th>\n",
       "      <td>0.030138</td>\n",
       "    </tr>\n",
       "    <tr>\n",
       "      <th>1</th>\n",
       "      <td>0.021858</td>\n",
       "    </tr>\n",
       "    <tr>\n",
       "      <th>2</th>\n",
       "      <td>0.069505</td>\n",
       "    </tr>\n",
       "    <tr>\n",
       "      <th rowspan=\"3\" valign=\"top\">9</th>\n",
       "      <th>0</th>\n",
       "      <td>0.076615</td>\n",
       "    </tr>\n",
       "    <tr>\n",
       "      <th>1</th>\n",
       "      <td>0.085366</td>\n",
       "    </tr>\n",
       "    <tr>\n",
       "      <th>2</th>\n",
       "      <td>0.095416</td>\n",
       "    </tr>\n",
       "  </tbody>\n",
       "</table>\n",
       "</div>"
      ],
      "text/plain": [
       "                   stroke\n",
       "age_cat AGL_cat          \n",
       "0       0        0.000211\n",
       "        1        0.000000\n",
       "        2        0.000000\n",
       "1       0        0.000413\n",
       "        1        0.000000\n",
       "        2        0.000000\n",
       "2       0        0.000223\n",
       "        1        0.000000\n",
       "        2        0.000000\n",
       "3       0        0.004031\n",
       "        1        0.000000\n",
       "        2        0.010791\n",
       "4       0        0.005661\n",
       "        1        0.012821\n",
       "        2        0.015584\n",
       "5       0        0.011019\n",
       "        1        0.029240\n",
       "        2        0.020797\n",
       "6       0        0.016975\n",
       "        1        0.022624\n",
       "        2        0.043716\n",
       "7       0        0.030138\n",
       "        1        0.021858\n",
       "        2        0.069505\n",
       "9       0        0.076615\n",
       "        1        0.085366\n",
       "        2        0.095416"
      ]
     },
     "execution_count": 70,
     "metadata": {},
     "output_type": "execute_result"
    }
   ],
   "source": [
    "train_stage.pivot_table(index = ['age_cat','AGL_cat'], values = 'stroke', aggfunc=np.mean)"
   ]
  },
  {
   "cell_type": "code",
   "execution_count": 71,
   "metadata": {
    "collapsed": true
   },
   "outputs": [],
   "source": [
    "train_stage['smoking_status'].fillna('never smoked',inplace = True)\n",
    "test_stage['smoking_status'].fillna('never smoked',inplace = True)"
   ]
  },
  {
   "cell_type": "code",
   "execution_count": 72,
   "metadata": {},
   "outputs": [
    {
     "name": "stdout",
     "output_type": "stream",
     "text": [
      "gender\n",
      "['Male' 'Female' 'Other']\n",
      "['Male' 'Female' 'Other']\n",
      "ever_married\n",
      "['No' 'Yes']\n",
      "['Yes' 'No']\n",
      "work_type\n",
      "['children' 'Private' 'Never_worked' 'Self-employed' 'Govt_job']\n",
      "['Private' 'Self-employed' 'children' 'Govt_job' 'Never_worked']\n",
      "Residence_type\n",
      "['Rural' 'Urban']\n",
      "['Urban' 'Rural']\n",
      "smoking_status\n",
      "['never smoked' 'formerly smoked' 'smokes']\n",
      "['formerly smoked' 'never smoked' 'smokes']\n"
     ]
    }
   ],
   "source": [
    "cat_var=train_stage.select_dtypes(include = ['object']).columns\n",
    "for var in cat_var :\n",
    "    if(var not in ['stroke']):\n",
    "        print(var)\n",
    "        print(train_stage[var].unique())\n",
    "        print(test_stage[var].unique())"
   ]
  },
  {
   "cell_type": "code",
   "execution_count": 73,
   "metadata": {},
   "outputs": [
    {
     "data": {
      "text/html": [
       "<div>\n",
       "<style>\n",
       "    .dataframe thead tr:only-child th {\n",
       "        text-align: right;\n",
       "    }\n",
       "\n",
       "    .dataframe thead th {\n",
       "        text-align: left;\n",
       "    }\n",
       "\n",
       "    .dataframe tbody tr th {\n",
       "        vertical-align: top;\n",
       "    }\n",
       "</style>\n",
       "<table border=\"1\" class=\"dataframe\">\n",
       "  <thead>\n",
       "    <tr style=\"text-align: right;\">\n",
       "      <th></th>\n",
       "      <th>stroke</th>\n",
       "    </tr>\n",
       "    <tr>\n",
       "      <th>work_type</th>\n",
       "      <th></th>\n",
       "    </tr>\n",
       "  </thead>\n",
       "  <tbody>\n",
       "    <tr>\n",
       "      <th>Govt_job</th>\n",
       "      <td>0.016360</td>\n",
       "    </tr>\n",
       "    <tr>\n",
       "      <th>Never_worked</th>\n",
       "      <td>0.000000</td>\n",
       "    </tr>\n",
       "    <tr>\n",
       "      <th>Private</th>\n",
       "      <td>0.017758</td>\n",
       "    </tr>\n",
       "    <tr>\n",
       "      <th>Self-employed</th>\n",
       "      <td>0.036950</td>\n",
       "    </tr>\n",
       "    <tr>\n",
       "      <th>children</th>\n",
       "      <td>0.000325</td>\n",
       "    </tr>\n",
       "  </tbody>\n",
       "</table>\n",
       "</div>"
      ],
      "text/plain": [
       "                 stroke\n",
       "work_type              \n",
       "Govt_job       0.016360\n",
       "Never_worked   0.000000\n",
       "Private        0.017758\n",
       "Self-employed  0.036950\n",
       "children       0.000325"
      ]
     },
     "execution_count": 73,
     "metadata": {},
     "output_type": "execute_result"
    }
   ],
   "source": [
    "train_stage.pivot_table(index = ['work_type'], values = 'stroke', aggfunc=np.mean)"
   ]
  },
  {
   "cell_type": "code",
   "execution_count": 74,
   "metadata": {},
   "outputs": [
    {
     "data": {
      "text/html": [
       "<div>\n",
       "<style>\n",
       "    .dataframe thead tr:only-child th {\n",
       "        text-align: right;\n",
       "    }\n",
       "\n",
       "    .dataframe thead th {\n",
       "        text-align: left;\n",
       "    }\n",
       "\n",
       "    .dataframe tbody tr th {\n",
       "        vertical-align: top;\n",
       "    }\n",
       "</style>\n",
       "<table border=\"1\" class=\"dataframe\">\n",
       "  <thead>\n",
       "    <tr style=\"text-align: right;\">\n",
       "      <th></th>\n",
       "      <th>stroke</th>\n",
       "    </tr>\n",
       "    <tr>\n",
       "      <th>smoking_status</th>\n",
       "      <th></th>\n",
       "    </tr>\n",
       "  </thead>\n",
       "  <tbody>\n",
       "    <tr>\n",
       "      <th>formerly smoked</th>\n",
       "      <td>0.029494</td>\n",
       "    </tr>\n",
       "    <tr>\n",
       "      <th>never smoked</th>\n",
       "      <td>0.014619</td>\n",
       "    </tr>\n",
       "    <tr>\n",
       "      <th>smokes</th>\n",
       "      <td>0.020268</td>\n",
       "    </tr>\n",
       "  </tbody>\n",
       "</table>\n",
       "</div>"
      ],
      "text/plain": [
       "                   stroke\n",
       "smoking_status           \n",
       "formerly smoked  0.029494\n",
       "never smoked     0.014619\n",
       "smokes           0.020268"
      ]
     },
     "execution_count": 74,
     "metadata": {},
     "output_type": "execute_result"
    }
   ],
   "source": [
    "train_stage.pivot_table(index = ['smoking_status'], values = 'stroke', aggfunc=np.mean)"
   ]
  },
  {
   "cell_type": "code",
   "execution_count": 75,
   "metadata": {
    "collapsed": true
   },
   "outputs": [],
   "source": [
    "train_stage['gender'].replace(['Male','Female', 'Other'],[2,1,0],inplace=True)\n",
    "train_stage['ever_married'].replace(['No','Yes'],[0,1],inplace=True)\n",
    "train_stage['work_type'].replace(['children','Never_worked','Self-employed','Private', 'Govt_job'],[0,0,2,1,1],inplace=True)\n",
    "train_stage['Residence_type'].replace(['Rural','Urban'],[0,1],inplace=True)\n",
    "train_stage['smoking_status'].replace(['never smoked','formerly smoked','smokes'],[0,2,1],inplace=True)\n",
    "\n",
    "test_stage['gender'].replace(['Male','Female', 'Other'],[2,1,0],inplace=True)\n",
    "test_stage['ever_married'].replace(['No','Yes'],[0,1],inplace=True)\n",
    "test_stage['work_type'].replace(['children','Never_worked','Self-employed','Private', 'Govt_job'],[0,0,2,1,1],inplace=True)\n",
    "test_stage['Residence_type'].replace(['Rural','Urban'],[0,1],inplace=True)\n",
    "test_stage['smoking_status'].replace(['never smoked','formerly smoked','smokes'],[0,2,1],inplace=True)"
   ]
  },
  {
   "cell_type": "code",
   "execution_count": 76,
   "metadata": {
    "scrolled": true
   },
   "outputs": [
    {
     "name": "stdout",
     "output_type": "stream",
     "text": [
      "                                              bmi\n",
      "work_type age_cat hypertension AGL_cat           \n",
      "0         0       0            0        19.085533\n",
      "                               1        18.917931\n",
      "                               2        19.842553\n",
      "                  1            0        36.100000\n",
      "          1       0            0        23.540670\n",
      "                               1        23.689189\n",
      "                               2        22.836000\n",
      "                  1            0        15.700000\n",
      "          2       0            0        29.777778\n",
      "                               1        29.450000\n",
      "                               2        23.800000\n",
      "          6       0            2        37.800000\n",
      "                  1            2        33.000000\n",
      "          7       0            0        26.700000\n",
      "1         0       0            0        17.600000\n",
      "          1       0            0        26.513810\n",
      "                               1        26.586765\n",
      "                               2        27.075000\n",
      "                  1            0        39.100000\n",
      "                               1        43.300000\n",
      "          2       0            0        29.013915\n",
      "                               1        28.520134\n",
      "                               2        32.314423\n",
      "                  1            0        38.000000\n",
      "                               1        38.700000\n",
      "                               2        37.742857\n",
      "          3       0            0        30.111402\n",
      "                               1        31.172222\n",
      "                               2        34.998947\n",
      "                  1            0        37.206569\n",
      "...                                           ...\n",
      "2         4       0            0        30.429719\n",
      "                               1        30.795652\n",
      "                               2        36.358974\n",
      "                  1            0        35.924324\n",
      "                               1        29.800000\n",
      "                               2        36.900000\n",
      "          5       0            0        30.576562\n",
      "                               1        32.200000\n",
      "                               2        35.671930\n",
      "                  1            0        32.066176\n",
      "                               1        31.320000\n",
      "                               2        37.590000\n",
      "          6       0            0        30.460332\n",
      "                               1        31.154054\n",
      "                               2        35.798400\n",
      "                  1            0        32.733010\n",
      "                               1        35.566667\n",
      "                               2        35.513514\n",
      "          7       0            0        29.371598\n",
      "                               1        28.912500\n",
      "                               2        33.253680\n",
      "                  1            0        31.060588\n",
      "                               1        27.414286\n",
      "                               2        34.638806\n",
      "          9       0            0        27.897614\n",
      "                               1        27.928302\n",
      "                               2        30.268571\n",
      "                  1            0        28.062598\n",
      "                               1        33.138462\n",
      "                               2        30.657554\n",
      "\n",
      "[108 rows x 1 columns]\n"
     ]
    }
   ],
   "source": [
    "table = train_stage.pivot_table(index = ['work_type','age_cat','hypertension','AGL_cat'], values = 'bmi', aggfunc=np.mean)\n",
    "print(table)"
   ]
  },
  {
   "cell_type": "code",
   "execution_count": 77,
   "metadata": {
    "collapsed": true
   },
   "outputs": [],
   "source": [
    "def fill(x):\n",
    "    if pd.isnull(x['bmi']):\n",
    "        return table.loc[x['work_type'],x['age_cat'],x['hypertension'],x['AGL_cat']].values\n",
    "    else:\n",
    "        return x['bmi']"
   ]
  },
  {
   "cell_type": "code",
   "execution_count": 80,
   "metadata": {
    "collapsed": true
   },
   "outputs": [],
   "source": [
    "train_stage['bmi'] = train_stage.apply(lambda x : round(float(fill(x)),2),axis=1)\n",
    "test_stage['bmi'] = test_stage.apply(lambda x : round(float(fill(x)),2),axis=1)"
   ]
  },
  {
   "cell_type": "code",
   "execution_count": 83,
   "metadata": {},
   "outputs": [],
   "source": [
    "combine = [train_stage, test_stage]\n",
    "\n",
    "for dataset in combine:\n",
    "    dataset['bmi_cat']=-1\n",
    "    dataset.loc[(dataset['bmi']>19)&(dataset['bmi']<=25),'bmi_cat']=0\n",
    "    dataset.loc[(dataset['bmi']>25)&(dataset['bmi']<=30.5),'bmi_cat']=1\n",
    "    dataset.loc[(dataset['bmi']>30.5),'bmi_cat']=2 "
   ]
  },
  {
   "cell_type": "code",
   "execution_count": 84,
   "metadata": {
    "collapsed": true
   },
   "outputs": [],
   "source": [
    "train_stage = train_stage.drop(['bmi','bmi_range'], axis=1)\n",
    "test_stage = test_stage.drop(['bmi'], axis=1)"
   ]
  },
  {
   "cell_type": "code",
   "execution_count": null,
   "metadata": {
    "collapsed": true
   },
   "outputs": [],
   "source": [
    "f,ax=plt.subplots(1,2,figsize=(20,8))\n",
    "sns.distplot(train_stage[train_stage['stroke']==0].bmi,ax=ax[0])\n",
    "ax[0].set_title('no stroke')\n",
    "sns.distplot(train_stage[train_stage['stroke']==1].bmi,ax=ax[1])\n",
    "ax[1].set_title('stroke')\n",
    "plt.show()"
   ]
  },
  {
   "cell_type": "code",
   "execution_count": null,
   "metadata": {
    "collapsed": true
   },
   "outputs": [],
   "source": [
    "f,ax=plt.subplots(1,2,figsize=(20,8))\n",
    "sns.distplot(train_stage[train_stage['stroke']==0].avg_glucose_level,ax=ax[0])\n",
    "ax[0].set_title('no stroke')\n",
    "sns.distplot(train_stage[train_stage['stroke']==1].avg_glucose_level,ax=ax[1])\n",
    "ax[1].set_title('stroke')\n",
    "plt.show()"
   ]
  },
  {
   "cell_type": "code",
   "execution_count": 85,
   "metadata": {},
   "outputs": [
    {
     "data": {
      "image/png": "[encoded data removed]",
      "text/plain": [
       "<matplotlib.figure.Figure at 0x10ab77cad68>"
      ]
     },
     "metadata": {},
     "output_type": "display_data"
    }
   ],
   "source": [
    "sns.heatmap(train_stage.corr(),annot=True,cmap='RdYlGn',linewidths=0.2) #data.corr()-->correlation matrix\n",
    "fig=plt.gcf()\n",
    "fig.set_size_inches(10,8)\n",
    "plt.show()"
   ]
  },
  {
   "cell_type": "code",
   "execution_count": 86,
   "metadata": {
    "collapsed": true
   },
   "outputs": [],
   "source": [
    "train_stage = train_stage.drop(['Residence_type','ever_married','heart_disease'], axis=1)\n",
    "test_stage = test_stage.drop(['Residence_type','ever_married','heart_disease'], axis=1)"
   ]
  },
  {
   "cell_type": "code",
   "execution_count": 87,
   "metadata": {
    "collapsed": true
   },
   "outputs": [],
   "source": [
    "y=train_stage['stroke']\n",
    "X = train_stage.drop('stroke', axis=1)"
   ]
  },
  {
   "cell_type": "code",
   "execution_count": 88,
   "metadata": {
    "collapsed": true
   },
   "outputs": [],
   "source": [
    "sm = SMOTE(random_state=21)"
   ]
  },
  {
   "cell_type": "code",
   "execution_count": 89,
   "metadata": {
    "collapsed": true
   },
   "outputs": [],
   "source": [
    "X_resampled, y_resampled = sm.fit_sample(X, y)"
   ]
  },
  {
   "cell_type": "code",
   "execution_count": 90,
   "metadata": {
    "collapsed": true
   },
   "outputs": [],
   "source": [
    "X_resampled = pd.DataFrame(X_resampled)"
   ]
  },
  {
   "cell_type": "code",
   "execution_count": 91,
   "metadata": {
    "collapsed": true
   },
   "outputs": [],
   "source": [
    "X_resampled.columns = X.columns"
   ]
  },
  {
   "cell_type": "code",
   "execution_count": 92,
   "metadata": {},
   "outputs": [
    {
     "name": "stdout",
     "output_type": "stream",
     "text": [
      "(43400, 7)\n",
      "(43400,)\n",
      "(85234, 7)\n",
      "(85234,)\n"
     ]
    }
   ],
   "source": [
    "print(X.shape)\n",
    "print(y.shape)\n",
    "print(X_resampled.shape)\n",
    "print(y_resampled.shape)"
   ]
  },
  {
   "cell_type": "code",
   "execution_count": 93,
   "metadata": {},
   "outputs": [
    {
     "data": {
      "text/plain": [
       "783"
      ]
     },
     "execution_count": 93,
     "metadata": {},
     "output_type": "execute_result"
    }
   ],
   "source": [
    "np.sum(y)"
   ]
  },
  {
   "cell_type": "code",
   "execution_count": 94,
   "metadata": {
    "collapsed": true
   },
   "outputs": [],
   "source": [
    "X_train, X_test, y_train, y_test = train_test_split(X_resampled,y_resampled,test_size=0.2,random_state=42, stratify=y_resampled)"
   ]
  },
  {
   "cell_type": "code",
   "execution_count": 95,
   "metadata": {
    "collapsed": true
   },
   "outputs": [],
   "source": [
    "model_rfc= RandomForestClassifier()"
   ]
  },
  {
   "cell_type": "code",
   "execution_count": 96,
   "metadata": {},
   "outputs": [
    {
     "data": {
      "text/plain": [
       "RandomForestClassifier(bootstrap=True, class_weight=None, criterion='gini',\n",
       "            max_depth=None, max_features='auto', max_leaf_nodes=None,\n",
       "            min_impurity_decrease=0.0, min_impurity_split=None,\n",
       "            min_samples_leaf=1, min_samples_split=2,\n",
       "            min_weight_fraction_leaf=0.0, n_estimators=10, n_jobs=1,\n",
       "            oob_score=False, random_state=None, verbose=0,\n",
       "            warm_start=False)"
      ]
     },
     "execution_count": 96,
     "metadata": {},
     "output_type": "execute_result"
    }
   ],
   "source": [
    "model_rfc.fit(X_train, y_train)"
   ]
  },
  {
   "cell_type": "code",
   "execution_count": 97,
   "metadata": {
    "collapsed": true
   },
   "outputs": [],
   "source": [
    "predicted= model_rfc.predict_proba(X_test)"
   ]
  },
  {
   "cell_type": "code",
   "execution_count": 98,
   "metadata": {},
   "outputs": [
    {
     "data": {
      "image/png": "[encoded data removed]",
      "text/plain": [
       "<matplotlib.figure.Figure at 0x10aaedac748>"
      ]
     },
     "metadata": {},
     "output_type": "display_data"
    }
   ],
   "source": [
    "fpr, tpr, thresholds = roc_curve(y_test, predicted[:,1], pos_label=1)\n",
    "auc_algo = auc(fpr, tpr)\n",
    "plt.title('Receiver Operating Characteristic')\n",
    "plt.plot(fpr, tpr, 'b', label = 'AUC = %0.2f' % auc_algo)\n",
    "plt.legend(loc = 'lower right')\n",
    "plt.plot([0, 1], [0, 1],'r--')\n",
    "plt.xlim([0, 1])\n",
    "plt.ylim([0, 1])\n",
    "plt.ylabel('True Positive Rate')\n",
    "plt.xlabel('False Positive Rate')\n",
    "plt.show()"
   ]
  },
  {
   "cell_type": "code",
   "execution_count": 99,
   "metadata": {},
   "outputs": [
    {
     "name": "stdout",
     "output_type": "stream",
     "text": [
      "Index(['gender', 'hypertension', 'work_type', 'smoking_status', 'age_cat',\n",
      "       'AGL_cat', 'bmi_cat'],\n",
      "      dtype='object')\n"
     ]
    },
    {
     "data": {
      "image/png": "[encoded data removed]",
      "text/plain": [
       "<matplotlib.figure.Figure at 0x10ab731ecf8>"
      ]
     },
     "metadata": {},
     "output_type": "display_data"
    }
   ],
   "source": [
    "feature_importance = pd.Series(model_rfc.feature_importances_, index=X.columns)\n",
    "columns = feature_importance[feature_importance > 0.0025].index\n",
    "print(columns)\n",
    "feature_importance.sort_values(inplace=True)\n",
    "feature_importance.plot(kind='barh',figsize=(17,20));\n",
    "plt.show()"
   ]
  },
  {
   "cell_type": "code",
   "execution_count": 100,
   "metadata": {
    "collapsed": true
   },
   "outputs": [],
   "source": [
    "xgb2 = XGBClassifier(\n",
    " learning_rate =0.1,\n",
    " n_estimators=1000,\n",
    " max_depth=6,\n",
    " min_child_weight=6,\n",
    " gamma=0.09,\n",
    " reg_alpha = 1,\n",
    " subsample=0.8,\n",
    " colsample_bytree=0.7,\n",
    " objective= 'binary:logistic',\n",
    " nthread=4,\n",
    " scale_pos_weight=1,\n",
    " seed=27)"
   ]
  },
  {
   "cell_type": "code",
   "execution_count": 101,
   "metadata": {},
   "outputs": [
    {
     "data": {
      "text/plain": [
       "XGBClassifier(base_score=0.5, colsample_bylevel=1, colsample_bytree=0.7,\n",
       "       gamma=0.09, learning_rate=0.1, max_delta_step=0, max_depth=6,\n",
       "       min_child_weight=6, missing=None, n_estimators=1000, nthread=4,\n",
       "       objective='binary:logistic', reg_alpha=1, reg_lambda=1,\n",
       "       scale_pos_weight=1, seed=27, silent=True, subsample=0.8)"
      ]
     },
     "execution_count": 101,
     "metadata": {},
     "output_type": "execute_result"
    }
   ],
   "source": [
    "xgb2.fit(X_train, y_train)"
   ]
  },
  {
   "cell_type": "code",
   "execution_count": 102,
   "metadata": {},
   "outputs": [
    {
     "data": {
      "image/png": "[encoded data removed]",
      "text/plain": [
       "<matplotlib.figure.Figure at 0x10ab75304e0>"
      ]
     },
     "metadata": {},
     "output_type": "display_data"
    }
   ],
   "source": [
    "y_predict = xgb2.predict_proba(X_test)\n",
    "fpr, tpr, thresholds = roc_curve(y_test, y_predict[:,1], pos_label=1)\n",
    "auc_algo = auc(fpr, tpr)\n",
    "\n",
    "plt.title('Receiver Operating Characteristic')\n",
    "plt.plot(fpr, tpr, 'b', label = 'AUC = %0.2f' % auc_algo)\n",
    "plt.legend(loc = 'lower right')\n",
    "plt.plot([0, 1], [0, 1],'r--')\n",
    "plt.xlim([0, 1])\n",
    "plt.ylim([0, 1])\n",
    "plt.ylabel('True Positive Rate')\n",
    "plt.xlabel('False Positive Rate')\n",
    "plt.show()"
   ]
  },
  {
   "cell_type": "code",
   "execution_count": 103,
   "metadata": {
    "collapsed": true
   },
   "outputs": [],
   "source": [
    "xgb2.fit(X_resampled, y_resampled)\n",
    "\n",
    "_pred = xgb2.predict_proba(test_stage)\n",
    "\n",
    "pred_reSample_xgb2 = pd.DataFrame(_pred[:,1],columns=['stroke'])\n",
    "\n",
    "Prediction = pd.concat([test_pid,pred_reSample_xgb2], axis=1 )\n",
    "Prediction.to_csv('../Submissions/Submission14.csv',sep=',',index =False)"
   ]
  },
  {
   "cell_type": "code",
   "execution_count": null,
   "metadata": {
    "collapsed": true
   },
   "outputs": [],
   "source": []
  }
 ],
 "metadata": {
  "kernelspec": {
   "display_name": "Python 3",
   "language": "python",
   "name": "python3"
  },
  "language_info": {
   "codemirror_mode": {
    "name": "ipython",
    "version": 3
   },
   "file_extension": ".py",
   "mimetype": "text/x-python",
   "name": "python",
   "nbconvert_exporter": "python",
   "pygments_lexer": "ipython3",
   "version": "3.6.1"
  }
 },
 "nbformat": 4,
 "nbformat_minor": 2
}
